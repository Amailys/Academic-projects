{
 "cells": [
  {
   "cell_type": "markdown",
   "id": "a1adb4ab",
   "metadata": {},
   "source": [
    "# Outlook\n",
    "\n",
    "In this notebook, using BBRL, we code the DDPG algorithm.\n",
    "\n",
    "To understand this code, you need to know more about [the BBRL interaction\n",
    "model](https://github.com/osigaud/bbrl/blob/master/docs/overview.md) Then you\n",
    "should run [a didactical\n",
    "example](https://github.com/osigaud/bbrl/blob/master/docs/notebooks/03-multi_env_autoreset.student.ipynb)\n",
    "to see how agents interact in BBRL when autoreset=True.\n",
    "\n",
    "The DDPG algorithm is explained in [this\n",
    "video](https://www.youtube.com/watch?v=0D6a0a1HTtc) and you can also read [the\n",
    "corresponding slides](http://pages.isir.upmc.fr/~sigaud/teach/ddpg.pdf)."
   ]
  },
  {
   "cell_type": "code",
   "execution_count": 1,
   "id": "f2305b55",
   "metadata": {
    "tags": [
     "hide-input"
    ]
   },
   "outputs": [
    {
     "name": "stderr",
     "output_type": "stream",
     "text": [
      "/home/amailys/deepdac/lib/python3.12/site-packages/bbrl_utils/notebook.py:46: TqdmExperimentalWarning: Using `tqdm.autonotebook.tqdm` in notebook mode. Use `tqdm.tqdm` instead to force console mode (e.g. in jupyter console)\n",
      "  from tqdm.autonotebook import tqdm  # noqa: F401\n",
      "error: XDG_RUNTIME_DIR is invalid or not set in the environment.\n"
     ]
    }
   ],
   "source": [
    "# Prepare the environment\n",
    "try:\n",
    "    from easypip import easyimport\n",
    "except ModuleNotFoundError:\n",
    "    from subprocess import run\n",
    "\n",
    "    assert (\n",
    "        run([\"pip\", \"install\", \"easypip\"]).returncode == 0\n",
    "    ), \"Could not install easypip\"\n",
    "    from easypip import easyimport\n",
    "\n",
    "easyimport(\"swig\")\n",
    "easyimport(\"bbrl_utils\").setup(maze_mdp=True)\n",
    "\n",
    "import os\n",
    "import copy\n",
    "import math\n",
    "import bbrl_gymnasium  # noqa: F401\n",
    "import torch\n",
    "import torch.nn as nn\n",
    "from bbrl.agents import Agent, Agents, TemporalAgent\n",
    "from bbrl_utils.algorithms import EpochBasedAlgo\n",
    "from bbrl_utils.nn import build_mlp, setup_optimizer, soft_update_params\n",
    "from bbrl_utils.notebook import setup_tensorboard\n",
    "from bbrl.visu.plot_policies import plot_policy\n",
    "from omegaconf import OmegaConf"
   ]
  },
  {
   "cell_type": "markdown",
   "id": "8812a713",
   "metadata": {},
   "source": [
    "# Learning environment\n",
    "\n",
    "## Configuration\n",
    "\n",
    "The learning environment is controlled by a configuration providing a few\n",
    "important things as described in the example below. This configuration can\n",
    "hold as many extra information as you need, the example below is the minimal\n",
    "one.\n",
    "\n",
    "```python\n",
    "params = {\n",
    "    # This defines the a path for logs and saved models\n",
    "    \"base_dir\": \"${gym_env.env_name}/myalgo_${current_time:}\",\n",
    "\n",
    "    # The Gymnasium environment\n",
    "    \"gym_env\": {\n",
    "        \"env_name\": \"CartPoleContinuous-v1\",\n",
    "    },\n",
    "\n",
    "    # Algorithm\n",
    "    \"algorithm\": {\n",
    "        # Seed used for the random number generator\n",
    "        \"seed\": 1023,\n",
    "\n",
    "        # Number of parallel training environments\n",
    "        \"n_envs\": 8,\n",
    "\n",
    "        # Number of transitions to collect at each epoch for an environment.\n",
    "        # This number has to be multiplied by n_envs to get the number of new transitions\n",
    "        # collected at each epoch.\n",
    "        \"n_steps\": 100,\n",
    "\n",
    "        # Number of transitions before starting to train\n",
    "        \"learning_starts\": 10_000,\n",
    "                \n",
    "        # Minimum number of steps between two evaluations\n",
    "        \"eval_interval\": 500,\n",
    "        \n",
    "        # Number of parallel evaluation environments\n",
    "        \"nb_evals\": 10,\n",
    "\n",
    "        # Number of epochs (loops)\n",
    "        \"max_epochs\": 40000,\n",
    "    },\n",
    "}\n",
    "\n",
    "# Creates the configuration object, i.e. cfg.algorithm.nb_evals is 10\n",
    "cfg = OmegaConf.create(params)\n",
    "```\n",
    "\n",
    "## The RL algorithm\n",
    "\n",
    "In this notebook, the RL algorithm is based on `EpochBasedAlgo`, that defines\n",
    "the algorithm environment when using episodes. To use such environment, we\n",
    "just need to subclass `EpochBasedAlgo` and to define two things, namely the\n",
    "`train_policy` and the `eval_policy`. Both are BBRL agents that, given the\n",
    "environment state, select the action to perform.\n",
    "\n",
    "```py\n",
    "  class MyAlgo(EpochBasedAlgo):\n",
    "      def __init__(self, cfg):\n",
    "          super().__init__(cfg)\n",
    "\n",
    "          # Define the train and evaluation policies\n",
    "          # (the agents compute the workspace `action` variable)\n",
    "          self.train_policy = MyPolicyAgent(...)\n",
    "          self.eval_policy = MyEvalAgent(...)\n",
    "\n",
    "algo = MyAlgo(cfg)\n",
    "```\n",
    "\n",
    "The `EpochBasedAlgo` defines useful objects:\n",
    "\n",
    "- `algo.cfg` is the configuration\n",
    "- `algo.nb_steps` (integer) is the number of steps since the training began\n",
    "- `algo.logger` is a logger that can be used to collect statistics during training:\n",
    "    - `algo.logger.add_log(\"critic_loss\", critic_loss, algo.nb_steps)` registers the `critic_loss` value on tensorboard\n",
    "- `algo.evaluate()` evaluates the current `eval_policy` if needed, and keeps the\n",
    "agent if it was the best so far (average cumulated reward);\n",
    "- `algo.visualize_best()` runs the best agent on one episode, and displays the video"
   ]
  },
  {
   "cell_type": "markdown",
   "id": "3a1d8b54",
   "metadata": {},
   "source": [
    "The [DDPG](https://arxiv.org/pdf/1509.02971.pdf) algorithm is an actor critic\n",
    "algorithm. We use a simple neural network builder function. This neural\n",
    "networks plays the role of the actor and the critic."
   ]
  },
  {
   "cell_type": "markdown",
   "id": "5ae68782",
   "metadata": {
    "lines_to_next_cell": 0
   },
   "source": [
    "## Definition of agents"
   ]
  },
  {
   "cell_type": "markdown",
   "id": "228ea0e5",
   "metadata": {},
   "source": [
    "The critic is a neural network taking the state $s$ and action $a$ as input,\n",
    "and its output layer has a unique neuron whose value is the value of being in\n",
    "that state and performing that action $Q(s,a)$.\n",
    "\n",
    "As usual, the ```forward(...)``` function is used to write Q-values in the\n",
    "workspace from time indexes."
   ]
  },
  {
   "cell_type": "code",
   "execution_count": 2,
   "id": "2c2ef477",
   "metadata": {
    "lines_to_next_cell": 2
   },
   "outputs": [],
   "source": [
    "class ContinuousQAgent(Agent):\n",
    "    def __init__(self, state_dim, hidden_layers, action_dim):\n",
    "        super().__init__()\n",
    "        self.is_q_function = True\n",
    "        self.model = build_mlp(\n",
    "            [state_dim + action_dim] + list(hidden_layers) + [1], activation=nn.ReLU()\n",
    "        )\n",
    "\n",
    "\n",
    "    def forward(self, t):\n",
    "        # Get the current state $s_t$ and the chosen action $a_t$\n",
    "        obs = self.get((\"env/env_obs\", t))  # shape B x D_{obs}\n",
    "        action = self.get((\"action\", t))  # shape B x D_{action}\n",
    "\n",
    "        # Compute the Q-value(s_t, a_t)\n",
    "        obs_act = torch.cat((obs, action), dim=1)  # shape B x (D_{obs} + D_{action})\n",
    "        # Get the q-value (and remove the last dimension since it is a scalar)\n",
    "        q_value = self.model(obs_act).squeeze(-1)\n",
    "        self.set((f\"{self.prefix}q_value\", t), q_value)"
   ]
  },
  {
   "cell_type": "markdown",
   "id": "37193038",
   "metadata": {
    "lines_to_next_cell": 2
   },
   "source": [
    "The actor is also a neural network, it takes a state $s$ as input and outputs\n",
    "an action $a$."
   ]
  },
  {
   "cell_type": "code",
   "execution_count": 3,
   "id": "7ba4b199",
   "metadata": {
    "lines_to_next_cell": 2
   },
   "outputs": [],
   "source": [
    "class ContinuousDeterministicActor(Agent):\n",
    "    def __init__(self, state_dim, hidden_layers, action_dim):\n",
    "        super().__init__()\n",
    "        layers = [state_dim] + list(hidden_layers) + [action_dim]\n",
    "        self.model = build_mlp(\n",
    "            layers, activation=nn.ReLU(), output_activation=nn.Tanh()\n",
    "        )\n",
    "\n",
    "    def forward(self, t, **kwargs):\n",
    "        obs = self.get((\"env/env_obs\", t))\n",
    "        action = self.model(obs)\n",
    "        self.set((\"action\", t), action)"
   ]
  },
  {
   "cell_type": "markdown",
   "id": "99669344",
   "metadata": {
    "lines_to_next_cell": 2
   },
   "source": [
    "### Creating an Exploration method\n",
    "\n",
    "In the continuous action domain, basic exploration differs from the methods\n",
    "used in the discrete action domain. Here we generally add some Gaussian noise\n",
    "to the output of the actor."
   ]
  },
  {
   "cell_type": "code",
   "execution_count": 4,
   "id": "fcc11101",
   "metadata": {},
   "outputs": [],
   "source": [
    "from torch.distributions import Normal"
   ]
  },
  {
   "cell_type": "code",
   "execution_count": 5,
   "id": "a70d9091",
   "metadata": {
    "lines_to_next_cell": 2
   },
   "outputs": [],
   "source": [
    "class AddGaussianNoise(Agent):\n",
    "    def __init__(self, sigma):\n",
    "        super().__init__()\n",
    "        self.sigma = sigma\n",
    "\n",
    "    def forward(self, t, **kwargs):\n",
    "        act = self.get((\"action\", t))\n",
    "        dist = Normal(act, self.sigma)\n",
    "        action = dist.sample()\n",
    "        self.set((\"action\", t), action)"
   ]
  },
  {
   "cell_type": "markdown",
   "id": "11a29ed5",
   "metadata": {
    "lines_to_next_cell": 2
   },
   "source": [
    "In [the original DDPG paper](https://arxiv.org/pdf/1509.02971.pdf), the\n",
    "authors rather used the more sophisticated Ornstein-Uhlenbeck noise where\n",
    "noise is correlated between one step and the next."
   ]
  },
  {
   "cell_type": "code",
   "execution_count": 6,
   "id": "7e9cfe83",
   "metadata": {},
   "outputs": [],
   "source": [
    "class AddOUNoise(Agent):\n",
    "    \"\"\"\n",
    "    Ornstein-Uhlenbeck process noise for actions as suggested by DDPG paper\n",
    "    \"\"\"\n",
    "\n",
    "    def __init__(self, std_dev, theta=0.15, dt=1e-2):\n",
    "        self.theta = theta\n",
    "        self.std_dev = std_dev\n",
    "        self.dt = dt\n",
    "        self.x_prev = 0\n",
    "\n",
    "    def forward(self, t, **kwargs):\n",
    "        act = self.get((\"action\", t))\n",
    "        x = (\n",
    "            self.x_prev\n",
    "            + self.theta * (act - self.x_prev) * self.dt\n",
    "            + self.std_dev * math.sqrt(self.dt) * torch.randn(act.shape)\n",
    "        )\n",
    "        self.x_prev = x\n",
    "        self.set((\"action\", t), x)"
   ]
  },
  {
   "cell_type": "markdown",
   "id": "a978fe28",
   "metadata": {},
   "source": [
    "### Compute critic loss\n",
    "\n",
    "Detailed explanations of the function to compute the critic loss\n",
    "are given in [the DQN notebook](http://master-dac.isir.upmc.fr/rld/rl/03-1-dqn-introduction.student.ipynb)"
   ]
  },
  {
   "cell_type": "code",
   "execution_count": 7,
   "id": "64f2e90b",
   "metadata": {},
   "outputs": [],
   "source": [
    "# Defines the (Torch) mse loss function\n",
    "# `mse(x, y)` computes $\\|x-y\\|^2$\n",
    "mse = nn.MSELoss()\n",
    "\n",
    "\n",
    "def compute_critic_loss(cfg, reward: torch.Tensor, must_bootstrap: torch.Tensor, \n",
    "                        q_values: torch.Tensor, target_q_values: torch.Tensor):\n",
    "    \"\"\"Compute the DDPG critic loss from a sample of transitions\n",
    "\n",
    "    :param cfg: The configuration\n",
    "    :param reward: The reward (shape 2xB)\n",
    "    :param must_bootstrap: Must bootstrap flag (shape 2xB)\n",
    "    :param q_values: The computed Q-values (shape 2xB)\n",
    "    :param target_q_values: The Q-values computed by the target critic (shape 2xB)\n",
    "    :return: the loss (a scalar)\n",
    "    \"\"\"\n",
    "    # Compute temporal difference\n",
    "    # To be completed...\n",
    "    \n",
    "\n",
    "    target=reward[1]+cfg.algorithm.discount_factor*target_q_values[1]*must_bootstrap[1].int()\n",
    "\n",
    "    return mse(target,q_values[0])\n"
   ]
  },
  {
   "cell_type": "markdown",
   "id": "44fbbd42",
   "metadata": {
    "lines_to_next_cell": 2
   },
   "source": [
    "### Compute actor loss\n",
    "The actor loss is straightforward. We want the actor to maximize Q-values, thus we minimize the mean of negated Q-values."
   ]
  },
  {
   "cell_type": "code",
   "execution_count": 8,
   "id": "2553710f",
   "metadata": {},
   "outputs": [],
   "source": [
    "def compute_actor_loss(q_values):\n",
    "    \"\"\"Returns the actor loss\n",
    "\n",
    "    :param q_values: The q-values (shape 2xB)\n",
    "    :return: A scalar (the loss)\n",
    "    \"\"\"\n",
    "\n",
    "    return -torch.mean(q_values[0])\n"
   ]
  },
  {
   "cell_type": "markdown",
   "id": "c2c20be8",
   "metadata": {},
   "source": [
    "### Create the DDPG agent\n",
    "\n",
    "In the next cell, we create the critic and the actor, but also an exploration\n",
    "agent to add noise and a target critic. The version below does not use a\n",
    "target actor as it proved hard to tune, but such a target actor is used in the\n",
    "original paper."
   ]
  },
  {
   "cell_type": "code",
   "execution_count": 9,
   "id": "e0c0fd5b",
   "metadata": {
    "lines_to_next_cell": 2
   },
   "outputs": [],
   "source": [
    "class DDPG(EpochBasedAlgo):\n",
    "    def __init__(self, cfg):\n",
    "        super().__init__(cfg)\n",
    "\n",
    "        # we create the critic and the actor, but also an exploration agent to\n",
    "        # add noise and a target critic. The version below does not use a target\n",
    "        # actor as it proved hard to tune, but such a target actor is used in\n",
    "        # the original paper.\n",
    "\n",
    "        obs_size, act_size = self.train_env.get_obs_and_actions_sizes()\n",
    "        \n",
    "        self.critic = ContinuousQAgent(obs_size, \n",
    "                                       cfg.algorithm.architecture.critic_hidden_size, \n",
    "                                       act_size\n",
    "                            ).with_prefix(\"critic/\")\n",
    "        self.target_critic = copy.deepcopy(self.critic).with_prefix(\"target-critic/\")\n",
    "\n",
    "        self.actor = ContinuousDeterministicActor(obs_size, \n",
    "                                                  cfg.algorithm.architecture.actor_hidden_size, \n",
    "                                                  act_size\n",
    "                                                )\n",
    "\n",
    "        # As an alternative, you can use `AddOUNoise`\n",
    "        noise_agent = AddGaussianNoise(cfg.algorithm.action_noise)\n",
    "\n",
    "\n",
    "\n",
    "        self.train_policy = Agents(self.actor, noise_agent)\n",
    "        self.eval_policy = self.actor\n",
    "\n",
    "        # Define agents over time\n",
    "        self.t_actor = TemporalAgent(self.actor)\n",
    "        self.t_critic = TemporalAgent(self.critic)\n",
    "        self.t_target_critic = TemporalAgent(self.target_critic)\n",
    "\n",
    "        # Configure the optimizer\n",
    "        self.actor_optimizer = setup_optimizer(cfg.actor_optimizer, self.actor)\n",
    "        self.critic_optimizer = setup_optimizer(cfg.critic_optimizer, self.critic)"
   ]
  },
  {
   "cell_type": "markdown",
   "id": "aeec9de0",
   "metadata": {},
   "source": [
    "## Main training loop\n",
    "\n",
    "In the following, we code the main loop"
   ]
  },
  {
   "cell_type": "code",
   "execution_count": 10,
   "id": "1a2eec04",
   "metadata": {},
   "outputs": [],
   "source": [
    "def run_ddpg(ddpg: DDPG):\n",
    "    for rb in ddpg.iter_replay_buffers():\n",
    "        rb_workspace = rb.get_shuffled(ddpg.cfg.algorithm.batch_size)\n",
    "        \n",
    "        # Compute the critic loss\n",
    "        # Critic update\n",
    "        \n",
    "        ddpg.actor(rb_workspace, t=1) #calcule l'action à t+1\n",
    "        ddpg.critic(rb_workspace, t=0)#Calcule critic/q_value\n",
    "        ddpg.target_critic(rb_workspace,t=1) #Calcule target_critic/q_value\n",
    "        \n",
    "\n",
    "\n",
    "        q_values, terminated, reward, target_q_values = rb_workspace[\n",
    "                \"critic/q_value\", \"env/terminated\", \"env/reward\", \"target-critic/q_value\"\n",
    "        ]\n",
    "        \n",
    "        must_bootstrap = ~terminated\n",
    "        critic_loss = compute_critic_loss(ddpg.cfg,reward,must_bootstrap,q_values,target_q_values)\n",
    "\n",
    "\n",
    "        # Gradient step (critic)\n",
    "        ddpg.logger.add_log(\"critic_loss\", critic_loss, ddpg.nb_steps)\n",
    "        ddpg.critic_optimizer.zero_grad()\n",
    "        critic_loss.backward()\n",
    "        torch.nn.utils.clip_grad_norm_(\n",
    "            ddpg.critic.parameters(), ddpg.cfg.algorithm.max_grad_norm\n",
    "        )\n",
    "        ddpg.critic_optimizer.step()\n",
    "\n",
    "\n",
    "        # Compute the actor loss\n",
    "\n",
    "        ddpg.actor(rb_workspace, t=0)\n",
    "        ddpg.critic(rb_workspace,t=0)\n",
    "        q_values = rb_workspace[\"critic/q_value\"]\n",
    "        actor_loss=compute_actor_loss(q_values)\n",
    "\n",
    "\n",
    "        # Gradient step (actor)\n",
    "        ddpg.actor_optimizer.zero_grad()\n",
    "        actor_loss.backward()\n",
    "        torch.nn.utils.clip_grad_norm_(\n",
    "            ddpg.actor.parameters(), ddpg.cfg.algorithm.max_grad_norm\n",
    "        )\n",
    "        ddpg.actor_optimizer.step()\n",
    "\n",
    "        # Soft update of target q function\n",
    "        soft_update_params(\n",
    "            ddpg.critic, ddpg.target_critic, ddpg.cfg.algorithm.tau_target\n",
    "        )\n",
    "        \n",
    "        # Evaluate the actor if needed\n",
    "        if ddpg.evaluate():\n",
    "            if ddpg.cfg.plot_agents:\n",
    "                plot_policy(\n",
    "                    ddpg.actor,\n",
    "                    ddpg.eval_env,\n",
    "                    ddpg.best_reward,\n",
    "                    str(ddpg.base_dir / \"plots\"),\n",
    "                    ddpg.cfg.gym_env.env_name,\n",
    "                    stochastic=False,\n",
    "                )"
   ]
  },
  {
   "cell_type": "markdown",
   "id": "5efd1330",
   "metadata": {},
   "source": [
    "# Definition of the parameters\n",
    "\n",
    "The logger is defined as `bbrl.utils.logger.TFLogger` so as to use a\n",
    "tensorboard visualisation."
   ]
  },
  {
   "cell_type": "code",
   "execution_count": 11,
   "id": "a7791309",
   "metadata": {},
   "outputs": [],
   "source": [
    "params = {\n",
    "    \"save_best\": False,\n",
    "    \"base_dir\": \"${gym_env.env_name}/ddpg-S${algorithm.seed}_${current_time:}\",\n",
    "    \"collect_stats\": True,\n",
    "    # Set to true to have an insight on the learned policy\n",
    "    # (but slows down the evaluation a lot!)\n",
    "    \"plot_agents\": True,\n",
    "    \"algorithm\": {\n",
    "        \"seed\": 1,\n",
    "        \"max_grad_norm\": 0.5,\n",
    "        \"epsilon\": 0.02,\n",
    "        \"n_envs\": 1,\n",
    "        \"n_steps\": 100,\n",
    "        \"nb_evals\": 10,\n",
    "        \"discount_factor\": 0.98,\n",
    "        \"buffer_size\": 2e5,\n",
    "        \"batch_size\": 64,\n",
    "        \"tau_target\": 0.05,\n",
    "        \"eval_interval\": 2_000,\n",
    "        \"max_epochs\": 11_000,\n",
    "        # Minimum number of transitions before learning starts\n",
    "        \"learning_starts\": 10000,\n",
    "        \"action_noise\": 0.1,\n",
    "        \"architecture\": {\n",
    "            \"actor_hidden_size\": [400, 300],\n",
    "            \"critic_hidden_size\": [400, 300],\n",
    "        },\n",
    "    },\n",
    "    \"gym_env\": {\n",
    "        \"env_name\": \"Pendulum-v1\",\n",
    "    },\n",
    "    \"actor_optimizer\": {\n",
    "        \"classname\": \"torch.optim.Adam\",\n",
    "        \"lr\": 1e-3,\n",
    "    },\n",
    "    \"critic_optimizer\": {\n",
    "        \"classname\": \"torch.optim.Adam\",\n",
    "        \"lr\": 1e-3,\n",
    "    },\n",
    "}"
   ]
  },
  {
   "cell_type": "markdown",
   "id": "57fcd017",
   "metadata": {},
   "source": [
    "## Launching tensorboard to visualize the results"
   ]
  },
  {
   "cell_type": "code",
   "execution_count": 12,
   "id": "7188b565",
   "metadata": {},
   "outputs": [
    {
     "name": "stdout",
     "output_type": "stream",
     "text": [
      "Launch tensorboard from the shell: \n",
      "/home/amailys/deepdac/bin/tensorboard --logdir '/home/amailys/TP/RLD/TP4/outputs'\n"
     ]
    }
   ],
   "source": [
    "setup_tensorboard(\"./outputs/tblogs\")"
   ]
  },
  {
   "cell_type": "code",
   "execution_count": 28,
   "id": "ba043cfd",
   "metadata": {},
   "outputs": [
    {
     "data": {
      "application/vnd.jupyter.widget-view+json": {
       "model_id": "03a866cfb0c74a06a009f2db901379dd",
       "version_major": 2,
       "version_minor": 0
      },
      "text/plain": [
       "  0%|          | 0/11000 [00:00<?, ?it/s]"
      ]
     },
     "metadata": {},
     "output_type": "display_data"
    },
    {
     "name": "stdout",
     "output_type": "stream",
     "text": [
      "Video of best agent recorded in outputs/Pendulum-v1/ddpg-S1_20241010-232305/best_agent.mp4\n",
      "Moviepy - Building video /home/amailys/TP/RLD/TP4/outputs/Pendulum-v1/ddpg-S1_20241010-232305/best_agent.mp4.\n",
      "Moviepy - Writing video /home/amailys/TP/RLD/TP4/outputs/Pendulum-v1/ddpg-S1_20241010-232305/best_agent.mp4\n",
      "\n"
     ]
    },
    {
     "name": "stderr",
     "output_type": "stream",
     "text": [
      "                                                               \r"
     ]
    },
    {
     "name": "stdout",
     "output_type": "stream",
     "text": [
      "Moviepy - Done !\n",
      "Moviepy - video ready /home/amailys/TP/RLD/TP4/outputs/Pendulum-v1/ddpg-S1_20241010-232305/best_agent.mp4\n"
     ]
    },
    {
     "data": {
      "text/html": [
       "<div align=middle><video src='data:video/mp4;base64,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' controls>Sorry, seems like your browser doesn't support HTML5 audio/video</video></div>"
      ],
      "text/plain": [
       "<moviepy.video.io.html_tools.HTML2 object>"
      ]
     },
     "execution_count": 28,
     "metadata": {},
     "output_type": "execute_result"
    }
   ],
   "source": [
    "ddpg = DDPG(OmegaConf.create(params))\n",
    "run_ddpg(ddpg)\n",
    "ddpg.visualize_best()"
   ]
  },
  {
   "cell_type": "markdown",
   "id": "12eaf381",
   "metadata": {},
   "source": [
    "## What's next?\n",
    "\n",
    "Starting from the above version , you should code [the TD3\n",
    "algorithm](http://proceedings.mlr.press/v80/fujimoto18a/fujimoto18a.pdf).\n",
    "\n",
    "## Differences with DDPG\n",
    "\n",
    "### Target policy smoothing\n",
    "\n",
    "The noise is clipped\n",
    "\n",
    "### Clipped double-Q learning\n",
    "\n",
    "$$y(r,s',d) = r + \\gamma (1 - d) \\min_{i=1,2} Q_{\\phi_{i, \\text{targ}}}(s', a'(s'))$$\n",
    "\n",
    "where both Q-value estimators are learned using the following loss:\n",
    "\n",
    "$$L(\\phi_1, {\\mathcal D}) = \\mathbb{E}_{(s,a,r,s',d) \\sim {\\mathcal D}}{\\Bigg( Q_{\\phi_1}(s,a) - y(r,s',d) \\Bigg)^2}$$\n",
    "$$L(\\phi_2, {\\mathcal D}) = \\mathbb{E}_{(s,a,r,s',d) \\sim {\\mathcal D}}{\\Bigg( Q_{\\phi_2}(s,a) - y(r,s',d) \\Bigg)^2}.$$\n",
    "\n",
    "### Policy learning\n",
    "\n",
    "We learn the policy with using the first critic ($\\Phi_1$)\n",
    "$$\\max_{\\theta} \\underset{s \\sim {\\mathcal D}}{{\\mathrm E}}\\left[ Q_{\\phi_1}(s, \\mu_{\\theta}(s)) \\right]$$\n",
    "\n",
    "## Algorithm details\n",
    "\n",
    "For that, you need to use two critics (and two target critics) and always take\n",
    "the minimum output between the two when you ask for the Q-value of a (state,\n",
    "action) pair.\n",
    "\n",
    "In more detail, you have to do the following:\n",
    "- replace the single critic and corresponding target critic with two critics\n",
    "  and target critics (name them ```critic_1, critic_2, target_critic_1,\n",
    "  target_critic_2```)\n",
    "- get the q-values and target q-values corresponding to all these critics.\n",
    "- then the target q-values you should consider to update the critic should be\n",
    "  the minimum over the target q-values at each step (use ```torch.min(...)``` to\n",
    "  get this min over a sequence of data).\n",
    "- to update the actor, do it with the q-values of an arbitrarily chosen\n",
    "  critic, e.g. critic_1."
   ]
  },
  {
   "cell_type": "code",
   "execution_count": 12,
   "id": "cbc41df0",
   "metadata": {},
   "outputs": [],
   "source": [
    "class TD3(EpochBasedAlgo):\n",
    "    def __init__(self, cfg):\n",
    "        super().__init__(cfg)\n",
    "\n",
    "# Define the agents and optimizers for TD3\n",
    "\n",
    "        obs_size, act_size = self.train_env.get_obs_and_actions_sizes()\n",
    "        \n",
    "        self.critic_1 = ContinuousQAgent(obs_size, \n",
    "                                       cfg.algorithm.architecture.critic_hidden_size, \n",
    "                                       act_size).with_prefix(\"critic_1/\")\n",
    "        \n",
    "        self.target_critic_1 = copy.deepcopy(self.critic_1).with_prefix(\"target-critic-1/\")\n",
    "\n",
    "        self.critic_2 = ContinuousQAgent(obs_size, \n",
    "                                       cfg.algorithm.architecture.critic_hidden_size, \n",
    "                                       act_size).with_prefix(\"critic_2/\")\n",
    "        \n",
    "        self.target_critic_2 = copy.deepcopy(self.critic_2).with_prefix(\"target-critic-2/\")\n",
    "\n",
    "        self.actor = ContinuousDeterministicActor(obs_size, \n",
    "                                                  cfg.algorithm.architecture.actor_hidden_size, \n",
    "                                                  act_size)\n",
    "\n",
    "        noise_agent = AddGaussianNoise(cfg.algorithm.action_noise)\n",
    "\n",
    "        self.train_policy = Agents(self.actor, noise_agent)\n",
    "        self.eval_policy = self.actor\n",
    "\n",
    "        self.t_actor = TemporalAgent(self.actor)\n",
    "        self.t_critic_1 = TemporalAgent(self.critic_1)\n",
    "        self.t_critic_2 = TemporalAgent(self.critic_2)\n",
    "        self.t_target_critic_1 = TemporalAgent(self.target_critic_1)\n",
    "        self.t_target_critic_2 = TemporalAgent(self.target_critic_2)\n",
    "\n",
    "        # Configure the optimizer\n",
    "        self.actor_optimizer = setup_optimizer(cfg.actor_optimizer, self.actor)\n",
    "        self.critic_1_optimizer = setup_optimizer(cfg.critic_optimizer, self.critic_1)\n",
    "        self.critic_2_optimizer = setup_optimizer(cfg.critic_optimizer, self.critic_2)"
   ]
  },
  {
   "cell_type": "code",
   "execution_count": 13,
   "id": "1299fc05",
   "metadata": {},
   "outputs": [],
   "source": [
    "\n",
    "def run_td3(td3: TD3):\n",
    "    for rb in td3.iter_replay_buffers():\n",
    "        rb_workspace = rb.get_shuffled(td3.cfg.algorithm.batch_size)\n",
    "        \n",
    "        # Compute the critic loss\n",
    "        # Critic update\n",
    "        # Compute critic loss\n",
    "\n",
    "        td3.critic_1(rb_workspace, t=0)\n",
    "        td3.target_critic_1(rb_workspace,t=1) \n",
    "        td3.critic_2(rb_workspace, t=0)\n",
    "        td3.target_critic_2(rb_workspace,t=1)\n",
    "\n",
    "        td3.actor(rb_workspace, t=1) \n",
    "\n",
    "\n",
    "        q_values1, q_values2, terminated, reward, target_q_values1,target_q_values2 = rb_workspace[\n",
    "                \"critic_1/q_value\",\"critic_2/q_value\", \"env/terminated\", \"env/reward\", \"target-critic-1/q_value\",\"target-critic-2/q_value\"\n",
    "        ]\n",
    "        \n",
    "        must_bootstrap = ~terminated\n",
    "\n",
    "        critic_loss_1 = compute_critic_loss(td3.cfg,reward,must_bootstrap,q_values1,torch.min(target_q_values1,target_q_values2).detach())\n",
    "\n",
    "        # Gradient step (critic)\n",
    "        td3.logger.add_log(\"critic_loss_1\", critic_loss_1, td3.nb_steps)\n",
    "        td3.critic_1_optimizer.zero_grad()\n",
    "        critic_loss_1.backward(retain_graph=True)\n",
    "        \n",
    "        torch.nn.utils.clip_grad_norm_(\n",
    "            td3.critic_1.parameters(), td3.cfg.algorithm.max_grad_norm\n",
    "        )\n",
    "        td3.critic_1_optimizer.step()\n",
    "\n",
    "        critic_loss_2 = compute_critic_loss(td3.cfg,reward,must_bootstrap,q_values2,torch.min(target_q_values1,target_q_values2).detach())\n",
    "\n",
    "        td3.logger.add_log(\"critic_loss_2\", critic_loss_2, td3.nb_steps)\n",
    "        td3.critic_2_optimizer.zero_grad()\n",
    "        critic_loss_2.backward()\n",
    "\n",
    "        torch.nn.utils.clip_grad_norm_(\n",
    "            td3.critic_2.parameters(), td3.cfg.algorithm.max_grad_norm\n",
    "        )\n",
    "        td3.critic_2_optimizer.step()\n",
    "\n",
    "        # Compute the actor loss\n",
    "\n",
    "        td3.actor(rb_workspace, t=0)\n",
    "        td3.critic_1(rb_workspace,t=0)\n",
    "        q_values = rb_workspace[\"critic_1/q_value\"]\n",
    "        actor_loss=compute_actor_loss(q_values)\n",
    "\n",
    "\n",
    "        # Gradient step (actor)\n",
    "        td3.actor_optimizer.zero_grad()\n",
    "        actor_loss.backward()\n",
    "        torch.nn.utils.clip_grad_norm_(\n",
    "            td3.actor.parameters(), td3.cfg.algorithm.max_grad_norm\n",
    "        )\n",
    "        td3.actor_optimizer.step()\n",
    "\n",
    "        # Soft update of target q function\n",
    "        soft_update_params(\n",
    "            td3.critic_1, td3.target_critic_1, td3.cfg.algorithm.tau_target\n",
    "        )\n",
    "        soft_update_params(\n",
    "            td3.critic_2, td3.target_critic_2, td3.cfg.algorithm.tau_target\n",
    "        )\n",
    "        \n",
    "        # Evaluate the actor if needed\n",
    "        if td3.evaluate():\n",
    "            if td3.cfg.plot_agents:\n",
    "                plot_policy(\n",
    "                    td3.actor,\n",
    "                    td3.eval_env,\n",
    "                    td3.best_reward,\n",
    "                    str(td3.base_dir / \"plots\"),\n",
    "                    td3.cfg.gym_env.env_name,\n",
    "                    stochastic=False,\n",
    "                )\n"
   ]
  },
  {
   "cell_type": "code",
   "execution_count": 14,
   "id": "59d00657",
   "metadata": {
    "lines_to_next_cell": 2
   },
   "outputs": [
    {
     "name": "stderr",
     "output_type": "stream",
     "text": [
      "2024-10-11 01:26:55.613451: E external/local_xla/xla/stream_executor/cuda/cuda_fft.cc:485] Unable to register cuFFT factory: Attempting to register factory for plugin cuFFT when one has already been registered\n",
      "2024-10-11 01:26:55.740873: E external/local_xla/xla/stream_executor/cuda/cuda_dnn.cc:8454] Unable to register cuDNN factory: Attempting to register factory for plugin cuDNN when one has already been registered\n",
      "2024-10-11 01:26:55.783442: E external/local_xla/xla/stream_executor/cuda/cuda_blas.cc:1452] Unable to register cuBLAS factory: Attempting to register factory for plugin cuBLAS when one has already been registered\n",
      "2024-10-11 01:26:56.115535: I tensorflow/core/platform/cpu_feature_guard.cc:210] This TensorFlow binary is optimized to use available CPU instructions in performance-critical operations.\n",
      "To enable the following instructions: AVX2 FMA, in other operations, rebuild TensorFlow with the appropriate compiler flags.\n",
      "2024-10-11 01:26:58.520214: W tensorflow/compiler/tf2tensorrt/utils/py_utils.cc:38] TF-TRT Warning: Could not find TensorRT\n"
     ]
    },
    {
     "data": {
      "application/vnd.jupyter.widget-view+json": {
       "model_id": "929b3d1e907642b3a7824001f260c331",
       "version_major": 2,
       "version_minor": 0
      },
      "text/plain": [
       "  0%|          | 0/11000 [00:00<?, ?it/s]"
      ]
     },
     "metadata": {},
     "output_type": "display_data"
    },
    {
     "name": "stdout",
     "output_type": "stream",
     "text": [
      "Video of best agent recorded in outputs/Pendulum-v1/td3-S1_20241011-012652/best_agent.mp4\n",
      "Moviepy - Building video /home/amailys/TP/RLD/TP4/outputs/Pendulum-v1/td3-S1_20241011-012652/best_agent.mp4.\n",
      "Moviepy - Writing video /home/amailys/TP/RLD/TP4/outputs/Pendulum-v1/td3-S1_20241011-012652/best_agent.mp4\n",
      "\n"
     ]
    },
    {
     "name": "stderr",
     "output_type": "stream",
     "text": [
      "                                                               "
     ]
    },
    {
     "name": "stdout",
     "output_type": "stream",
     "text": [
      "Moviepy - Done !\n",
      "Moviepy - video ready /home/amailys/TP/RLD/TP4/outputs/Pendulum-v1/td3-S1_20241011-012652/best_agent.mp4\n"
     ]
    },
    {
     "name": "stderr",
     "output_type": "stream",
     "text": [
      "\r"
     ]
    },
    {
     "data": {
      "text/html": [
       "<div align=middle><video src='data:video/mp4;base64,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' controls>Sorry, seems like your browser doesn't support HTML5 audio/video</video></div>"
      ],
      "text/plain": [
       "<moviepy.video.io.html_tools.HTML2 object>"
      ]
     },
     "execution_count": 14,
     "metadata": {},
     "output_type": "execute_result"
    }
   ],
   "source": [
    "params = {\n",
    "    \"save_best\": False,\n",
    "    \"base_dir\": \"${gym_env.env_name}/td3-S${algorithm.seed}_${current_time:}\",\n",
    "    \"collect_stats\": True,\n",
    "    # Set to true to have an insight on the learned policy\n",
    "    # (but slows down the evaluation a lot!)\n",
    "    \"plot_agents\": True,\n",
    "    \"algorithm\": {\n",
    "        \"seed\": 1,\n",
    "        \"max_grad_norm\": 0.5,\n",
    "        \"epsilon\": 0.02,\n",
    "        \"n_envs\": 1,\n",
    "        \"n_steps\": 100,\n",
    "        \"nb_evals\": 10,\n",
    "        \"discount_factor\": 0.98,\n",
    "        \"buffer_size\": 2e5,\n",
    "        \"batch_size\": 64,\n",
    "        \"tau_target\": 0.05,\n",
    "        \"eval_interval\": 2_000,\n",
    "        \"max_epochs\": 11_000,\n",
    "        # Minimum number of transitions before learning starts\n",
    "        \"learning_starts\": 10000,\n",
    "        \"action_noise\": 0.1,\n",
    "        \"architecture\": {\n",
    "            \"actor_hidden_size\": [400, 300],\n",
    "            \"critic_hidden_size\": [400, 300],\n",
    "        },\n",
    "    },\n",
    "    \"gym_env\": {\n",
    "        \"env_name\": \"Pendulum-v1\",\n",
    "    },\n",
    "    \"actor_optimizer\": {\n",
    "        \"classname\": \"torch.optim.Adam\",\n",
    "        \"lr\": 1e-3,\n",
    "    },\n",
    "    \"critic_optimizer\": {\n",
    "        \"classname\": \"torch.optim.Adam\",\n",
    "        \"lr\": 1e-3,\n",
    "    },\n",
    "}\n",
    "\n",
    "td3 = TD3(OmegaConf.create(params))\n",
    "run_td3(td3)\n",
    "td3.visualize_best()"
   ]
  },
  {
   "cell_type": "markdown",
   "id": "a4c2a5f5",
   "metadata": {},
   "source": [
    "## Experimental comparison\n",
    "\n",
    "Take an environment where the over-estimation bias may matter, and compare the\n",
    "performance of DDPG and TD3. Visualize the Q-value long before convergence to\n",
    "see whether indeed DDPG overestimates the Q-values with respect to TD3."
   ]
  },
  {
   "cell_type": "code",
   "execution_count": null,
   "id": "90c8c09c",
   "metadata": {},
   "outputs": [],
   "source": [
    "from bbrl.stats import WelchTTest\n",
    "\n",
    "WelchTTest().plot(\n",
    "    torch.stack(ddpg.eval_rewards),\n",
    "    torch.stack(td3.eval_rewards),\n",
    "    legends=\"ddpg/td3\",\n",
    "    save=False,\n",
    ")"
   ]
  }
 ],
 "metadata": {
  "jupytext": {
   "cell_markers": "\"\"\""
  },
  "kernelspec": {
   "display_name": "deepdac",
   "language": "python",
   "name": "python3"
  },
  "language_info": {
   "codemirror_mode": {
    "name": "ipython",
    "version": 3
   },
   "file_extension": ".py",
   "mimetype": "text/x-python",
   "name": "python",
   "nbconvert_exporter": "python",
   "pygments_lexer": "ipython3",
   "version": "3.12.3"
  }
 },
 "nbformat": 4,
 "nbformat_minor": 5
}
