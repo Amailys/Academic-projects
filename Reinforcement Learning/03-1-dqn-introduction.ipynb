{
 "cells": [
  {
   "cell_type": "markdown",
   "id": "8a87d64f",
   "metadata": {
    "lines_to_next_cell": 2
   },
   "source": [
    " Copyright © Sorbonne University.\n",
    "\n",
    " This source code is licensed under the MIT license found in the LICENSE file\n",
    " in the root directory of this source tree."
   ]
  },
  {
   "cell_type": "markdown",
   "id": "b19f38e5",
   "metadata": {},
   "source": [
    "# Outlook\n",
    "In this notebook, using BBRL, we code a simple version of the DQN algorithm\n",
    "without a replay buffer nor a target network so as to better understand the\n",
    "inner mechanisms.\n",
    "\n",
    "To understand this code, you need to know more about [the BBRL interaction\n",
    "model](https://github.com/osigaud/bbrl/blob/master/docs/overview.md) Then you\n",
    "should run [a didactical\n",
    "example](https://github.com/osigaud/bbrl/blob/master/docs/notebooks/02-multi_env_noautoreset.student.ipynb)\n",
    "to see how agents interact in BBRL when autoreset=False.\n",
    "\n",
    "The DQN algorithm is explained in [this\n",
    "video](https://www.youtube.com/watch?v=CXwvOMJujZk) and you can also read [the\n",
    "corresponding slides](http://pages.isir.upmc.fr/~sigaud/teach/dqn.pdf)."
   ]
  },
  {
   "cell_type": "code",
   "execution_count": 1,
   "id": "4600a669",
   "metadata": {
    "tags": [
     "hide-input"
    ]
   },
   "outputs": [
    {
     "name": "stderr",
     "output_type": "stream",
     "text": [
      "/home/amailys/deepdac/lib/python3.12/site-packages/bbrl_utils/notebook.py:46: TqdmExperimentalWarning: Using `tqdm.autonotebook.tqdm` in notebook mode. Use `tqdm.tqdm` instead to force console mode (e.g. in jupyter console)\n",
      "  from tqdm.autonotebook import tqdm  # noqa: F401\n",
      "error: XDG_RUNTIME_DIR is invalid or not set in the environment.\n"
     ]
    }
   ],
   "source": [
    "# Prepare the environment\n",
    "try:\n",
    "    from easypip import easyimport\n",
    "except ModuleNotFoundError:\n",
    "    from subprocess import run\n",
    "    assert run([\"pip\", \"install\", \"easypip\"]).returncode == 0, \"Could not install easypip\"\n",
    "    from easypip import easyimport\n",
    "\n",
    "easyimport(\"swig\")\n",
    "easyimport(\"bbrl_utils\").setup(maze_mdp=True)\n",
    "\n",
    "import os\n",
    "\n",
    "import bbrl_gymnasium  # noqa: F401\n",
    "import torch\n",
    "import torch.nn as nn\n",
    "from bbrl.agents import Agent, Agents\n",
    "from bbrl_utils.algorithms import EpisodicAlgo\n",
    "from bbrl_utils.nn import build_mlp, setup_optimizer\n",
    "from bbrl_utils.notebook import setup_tensorboard\n",
    "from omegaconf import OmegaConf"
   ]
  },
  {
   "cell_type": "markdown",
   "id": "63eb0a79",
   "metadata": {},
   "source": [
    "# Learning environment\n",
    "\n",
    "## Configuration\n",
    "\n",
    "The learning environment is controlled by a configuration that define a few\n",
    "important things as described in the example below. This configuration can\n",
    "hold as many extra information as you need, the example below is the minimal\n",
    "one.\n",
    "\n",
    "```python\n",
    "params = {\n",
    "    # This defines the a path for logs and saved models\n",
    "    \"base_dir\": \"${gym_env.env_name}/myalgo_${current_time:}\",\n",
    "\n",
    "    # The Gymnasium environment\n",
    "    \"gym_env\": {\n",
    "        \"env_name\": \"CartPoleContinuous-v1\",\n",
    "    },\n",
    "\n",
    "    # Algorithm\n",
    "    \"algorithm\": {\n",
    "        # Seed used for the random number generator\n",
    "        \"seed\": 1023,\n",
    "\n",
    "        # Number of parallel training environments\n",
    "        \"n_envs\": 8,\n",
    "                \n",
    "        # Minimum number of steps between two evaluations\n",
    "        \"eval_interval\": 500,\n",
    "        \n",
    "        # Number of parallel evaluation environments\n",
    "        \"nb_evals\": 10,\n",
    "\n",
    "        # Number of epochs (loops)\n",
    "        \"max_epochs\": 40000,\n",
    "\n",
    "    },\n",
    "}\n",
    "\n",
    "# Creates the configuration object, i.e. cfg.algorithm.nb_evals is 10\n",
    "cfg = OmegaConf.create(params)\n",
    "```\n",
    "\n",
    "## The RL algorithm\n",
    "\n",
    "In this notebook, the RL algorithm is based on `EpisodicAlgo`, that defines\n",
    "the algorithm environment when using episodes. To use such environment, we\n",
    "just need to subclass `EpisodicAlgo` and to define two things, namely the\n",
    "`train_policy` and the `eval_policy`. Both are BBRL agents that, given the\n",
    "environment state, select the action to perform.\n",
    "\n",
    "```py\n",
    "  class MyAlgo(EpisodicAlgo):\n",
    "      def __init__(self, cfg):\n",
    "          super().__init__(cfg)\n",
    "\n",
    "          # Define the train and evaluation policies\n",
    "          # (the agents compute the workspace `action` variable)\n",
    "          self.train_policy = MyPolicyAgent(...)\n",
    "          self.eval_policy = MyEvalAgent(...)\n",
    "\n",
    "algo = MyAlgo(cfg)\n",
    "```\n",
    "\n",
    "The `EpisodicAlgo` defines useful objects:\n",
    "\n",
    "- `algo.cfg` is the configuration\n",
    "- `algo.nb_steps` (integer) is the number of steps since the training began\n",
    "- `algo.logger` is a logger that can be used to collect statistics during training:\n",
    "    - `algo.logger.add_log(\"critic_loss\", critic_loss, algo.nb_steps)` registers the `critic_loss` value on tensorboard\n",
    "- `algo.evaluate()` evaluates the current `eval_policy` if needed, and keeps the\n",
    "agent if it was the best so far (average cumulated reward);\n",
    "- `algo.visualize_best()` runs the best agent on one episode, and displays the video\n",
    "\n",
    "\n",
    "\n",
    "Besides, it also defines an `iter_episodes` is simple:\n",
    "\n",
    "```py\n",
    "  # With episodes\n",
    "  for workspace in rl_algo.iter_episodes():\n",
    "      # workspace is a workspace containing transitions\n",
    "      # Episodes shorter than the longer one contain duplicated\n",
    "      # transitions (with `env/done` set to true)\n",
    "      ...\n",
    "```"
   ]
  },
  {
   "cell_type": "markdown",
   "id": "7d805238",
   "metadata": {},
   "source": [
    "## Definition of agents\n",
    "\n",
    "The [DQN](https://daiwk.github.io/assets/dqn.pdf) algorithm is a critic only\n",
    "algorithm. Thus we just need a Critic agent (which is also used to output\n",
    "actions) and an Environment agent.\n",
    "\n",
    "### The critic agent\n",
    "\n",
    "The critic agent is an instance of the `DiscreteQAgent` class. We first build\n",
    "a deterministic neural network that takes the state as input (so it has one\n",
    "input neuron per state variable) and that outputs the Q-value of each action\n",
    "in that state (so it has one output neuron per action)."
   ]
  },
  {
   "cell_type": "markdown",
   "id": "f659f6b6",
   "metadata": {
    "lines_to_next_cell": 2
   },
   "source": [
    "As any BBRL agent, the DiscreteQAgent has a `forward()` function that takes a\n",
    "time state as input. This `forward()` function outputs the Q-values of all\n",
    "actions at the corresponding time step. Additionally, if the critic is used to\n",
    "choose an action, it also outputs the chosen action at the same time step."
   ]
  },
  {
   "cell_type": "code",
   "execution_count": 16,
   "id": "03f98684",
   "metadata": {
    "lines_to_next_cell": 2
   },
   "outputs": [],
   "source": [
    "class DiscreteQAgent(Agent):\n",
    "    \"\"\"BBRL agent (discrete actions) based on a MLP\"\"\"\n",
    "\n",
    "    def __init__(self, state_dim, hidden_layers, action_dim):\n",
    "        super().__init__()\n",
    "        self.model = build_mlp(\n",
    "            [state_dim] + list(hidden_layers) + [action_dim], activation=nn.ReLU()\n",
    "        )\n",
    "\n",
    "    def forward(self, t: int, **kwargs):\n",
    "        \"\"\"An Agent can use self.workspace\"\"\"\n",
    "\n",
    "        # Retrieves the observation from the environment at time t\n",
    "        obs = self.get((\"env/env_obs\", t))\n",
    "\n",
    "        # Computes the critic (Q) values for the observation\n",
    "        q_values = self.model(obs)\n",
    "\n",
    "        # ... and sets the q-values (one for each possible action)\n",
    "        self.set((\"q_values\", t), q_values)"
   ]
  },
  {
   "cell_type": "markdown",
   "id": "980c69e0",
   "metadata": {},
   "source": [
    "#### Greedily choosing the action\n",
    "\n",
    "The ArgmaxActionSelector is in charge of choosing the action whose Q-value is\n",
    "the highest given the Q-values of all actions. We may use it when we do not\n",
    "want to explore."
   ]
  },
  {
   "cell_type": "code",
   "execution_count": 17,
   "id": "f25dc0ce",
   "metadata": {
    "lines_to_next_cell": 2
   },
   "outputs": [],
   "source": [
    "class ArgmaxActionSelector(Agent):\n",
    "    \"\"\"BBRL agent that selects the best action based on Q(s,a)\"\"\"\n",
    "\n",
    "    def forward(self, t: int, **kwargs):\n",
    "        q_values = self.get((\"q_values\", t))\n",
    "        action = q_values.argmax(1)\n",
    "        self.set((\"action\", t), action)"
   ]
  },
  {
   "cell_type": "markdown",
   "id": "41b483ba",
   "metadata": {
    "lines_to_next_cell": 2
   },
   "source": [
    "### Creating an Exploration method\n",
    "\n",
    "As Q-learning, DQN needs some exploration to prevent too early convergence.\n",
    "Here we use the simple $\\epsilon$-greedy exploration method.\n",
    "It is implemented as an agent which chooses an action based on the Q-values."
   ]
  },
  {
   "cell_type": "code",
   "execution_count": 18,
   "id": "3bbd79a5",
   "metadata": {
    "lines_to_next_cell": 2
   },
   "outputs": [],
   "source": [
    "class EGreedyActionSelector(Agent):\n",
    "    def __init__(self, epsilon):\n",
    "        super().__init__()\n",
    "        self.epsilon = epsilon\n",
    "\n",
    "    def forward(self, t: int, **kwargs):\n",
    "        # Retrieves the q values\n",
    "        # (matrix nb. of episodes x nb. of actions)\n",
    "        q_values: torch.Tensor = self.get((\"q_values\", t))\n",
    "        size, nb_actions = q_values.shape\n",
    "\n",
    "        # Flag\n",
    "        is_random = torch.rand(size) > self.epsilon\n",
    "        \n",
    "        # Actions (random / argmax)\n",
    "        random_action = torch.randint(nb_actions, size=(size,))\n",
    "        max_action = q_values.argmax(-1)\n",
    "\n",
    "        # Choose the action based on the is_random flag\n",
    "        action = torch.where(is_random, random_action, max_action)\n",
    "\n",
    "        # Sets the action at time t\n",
    "        self.set((\"action\", t), action)"
   ]
  },
  {
   "cell_type": "code",
   "execution_count": null,
   "id": "faa384f9",
   "metadata": {},
   "outputs": [],
   "source": []
  },
  {
   "cell_type": "markdown",
   "id": "0b753b04",
   "metadata": {},
   "source": [
    "## Heart of the algorithm\n",
    "\n",
    "### Computing the critic loss\n",
    "\n",
    "The role of the `compute_critic_loss` function is to implement the Bellman\n",
    "backup rule. In Q-learning, this rule was written:\n",
    "\n",
    "$$Q(s_t,a_t) \\leftarrow Q(s_t,a_t) + \\alpha [ r(s_t,a_t) + \\gamma \\max_a\n",
    "Q(s_{t+1},a) - Q(s_t,a_t)]$$\n",
    "\n",
    "In DQN, the update rule $Q \\leftarrow Q + \\alpha [\\delta] $ is replaced by a\n",
    "gradient descent step over the Q-network.\n",
    "\n",
    "We first compute a target value: $ target = r(s_t,a_t) + \\gamma \\max_a\n",
    "Q(s_{t+1},a)$ from a set of samples.\n",
    "\n",
    "Then we get a TD error $\\delta$ by substracting $Q(s_t,a_t)$ for these\n",
    "samples, and we use the squared TD error as a loss function: $ loss = (target - Q(s_t,a_t))^2$.\n",
    "\n",
    "To implement the above calculation in BBRL, the difficulty is to properly deal\n",
    "with time indexes.\n",
    "\n",
    "The `compute_critic_loss` function receives rewards, q_values and actions as\n",
    "tensors that have been computed over a complete episode.\n",
    "\n",
    "We need to take `reward[1:]`, which means all the rewards except the first one\n",
    "because the reward from $(s_t, a_t)$ is $r_{t+1}$. Similarly, to get $\\max_a\n",
    "Q(s_{t+1}, a)$, we need to ignore the first of the max_q values, using\n",
    "`max_q[1:]`.\n",
    "\n",
    "Do not forget to apply .detach() when computing the values of $\\max_a\n",
    "Q(s_{t+1}, a)$, as **we do not want to apply gradient descent on this $\\max_a\n",
    "Q(s_{t+1}, a)$**, we only apply gradient descent to $Q(s_t, a_t)$ according to\n",
    "this target value. In practice, `x.detach()` detaches a computation graph from\n",
    "a tensor, so it avoids computing a gradient over this tensor.\n",
    "\n",
    "The `must_bootstrap` tensor is used as a trick to deal with terminal states,\n",
    "as explained\n",
    "[here](https://github.com/osigaud/bbrl/blob/master/docs/time_limits.md) In\n",
    "practice, `must_bootstrap` is the logical negation of `terminated`. In the\n",
    "autoreset=False version we use full episodes, thus `must_bootstrap` is always\n",
    "True for all steps but the last one.\n",
    "\n",
    "To compute $Q(s_t,a_t)$ we use the [`torch.gather()`](https://pytorch.org/docs/stable/generated/torch.gather.html) function. This function is\n",
    "a little tricky to use, see [this\n",
    "page](https://github.com/osigaud/bbrl/blob/master/docs/using_gather.md) for\n",
    "useful explanations.\n",
    "\n",
    "In particular, the q_vals output that we get is not properly conditioned,\n",
    "hence the need for the `qval[:-1]` (we ignore the last dimension). Finally we\n",
    "just need to compute the difference target - qvals, square it, take the mean\n",
    "and send it back as the loss."
   ]
  },
  {
   "cell_type": "code",
   "execution_count": 19,
   "id": "ffd91164",
   "metadata": {
    "lines_to_next_cell": 2
   },
   "outputs": [],
   "source": [
    "\n",
    "def compute_critic_loss(\n",
    "    cfg,\n",
    "    reward: torch.Tensor,\n",
    "    must_bootstrap: torch.Tensor,\n",
    "    done: torch.Tensor,\n",
    "    q_values: torch.Tensor,\n",
    "    action: torch.LongTensor,\n",
    ") -> torch.Tensor:\n",
    "    \"\"\"Compute the temporal difference loss from a dataset to\n",
    "    update a critic\n",
    "\n",
    "    For the tensor dimensions:\n",
    "\n",
    "    - T = maximum number of time steps\n",
    "    - B = number of episodes run in parallel\n",
    "    - A = action space dimension\n",
    "\n",
    "    :param cfg: The configuration\n",
    "    :param reward: A (T x B) tensor containing the rewards\n",
    "    :param must_bootstrap: a (T x B) tensor containing 0 at (t, b) if the\n",
    "        episode b was terminated at time $t$ (or before)\n",
    "    :param done: a (T x B) tensor containing 0 at (t, b) if the\n",
    "        episode b is truncated or terminated at time $t$ (or before)\n",
    "    :param q_values: a (T x B x A) tensor containing the Q-values at each time\n",
    "        step, and for each action\n",
    "    :param action: a (T x B) long tensor containing the chosen action\n",
    "\n",
    "    :return: The DQN loss\n",
    "    \"\"\"\n",
    "    # We compute the max of Q-values over all actions and detach (so that this\n",
    "    # part of the computation graph is not included in the gradient\n",
    "    # backpropagation)\n",
    "\n",
    "    # Compute the loss\n",
    "\n",
    "\n",
    "    max_q=q_values.max(-1).values.detach()\n",
    "\n",
    "    target=(reward[1:]+cfg.algorithm.discount_factor*max_q[1:]*must_bootstrap[1:].int())\n",
    "\n",
    "    qsa_t=q_values.gather(2,action.unsqueeze(-1)).squeeze(-1) #on ajoute une dimension pour utiliser gather, puis on l'enleve \n",
    "\n",
    "    not_done=(~done[:-1]).int()\n",
    "    td=( target - qsa_t[:-1] ) ** 2 * not_done\n",
    "    critic_loss=td.sum()/not_done.sum()\n",
    "\n",
    "    \n",
    "    return critic_loss"
   ]
  },
  {
   "cell_type": "markdown",
   "id": "44553246",
   "metadata": {
    "lines_to_next_cell": 2
   },
   "source": [
    "## Main training loop\n",
    "\n",
    "Note that everything about the shared workspace between all the agents is\n",
    "completely hidden under the hood. This results in a gain of productivity, at\n",
    "the expense of having to dig into the BBRL code if you want to understand the\n",
    "details, change the multiprocessing model, etc.\n",
    "\n",
    "The next cells defines a `EpisodicDQN` that deals with various part of the\n",
    "training loop."
   ]
  },
  {
   "cell_type": "code",
   "execution_count": 20,
   "id": "528a039a",
   "metadata": {},
   "outputs": [],
   "source": [
    "class EpisodicDQN(EpisodicAlgo):\n",
    "    def __init__(self, cfg):\n",
    "        super().__init__(cfg)\n",
    "\n",
    "        # Get the observation / action state space dimensions\n",
    "        obs_size, act_size = self.train_env.get_obs_and_actions_sizes()\n",
    "\n",
    "        # Our discrete Q-Agent\n",
    "        self.q_agent = DiscreteQAgent(\n",
    "            obs_size, cfg.algorithm.architecture.hidden_size, act_size\n",
    "        )\n",
    "\n",
    "        # The e-greedy strategy (when training)\n",
    "        explorer = EGreedyActionSelector(cfg.algorithm.epsilon)\n",
    "\n",
    "        # The training agent combines the Q agent\n",
    "        self.train_policy = Agents(self.q_agent, explorer)\n",
    "\n",
    "        # The optimizer for the Q-Agent parameters\n",
    "        self.optimizer = setup_optimizer(self.cfg.optimizer, self.q_agent)\n",
    "\n",
    "        # ...and the evaluation policy (select the most likely action)\n",
    "        self.eval_policy = Agents(self.q_agent, ArgmaxActionSelector())\n",
    "\n",
    "    def run(self):\n",
    "        for train_workspace in self.iter_episodes():\n",
    "            q_values, terminated, done, reward, action = train_workspace[\n",
    "                \"q_values\", \"env/terminated\", \"env/done\", \"env/reward\", \"action\"\n",
    "            ]\n",
    "\n",
    "            # Determines whether values of the critic should be propagated\n",
    "            # True if the episode reached a time limit or if the task was not done\n",
    "            # See https://github.com/osigaud/bbrl/blob/master/docs/time_limits.md\n",
    "            must_bootstrap = ~terminated\n",
    "\n",
    "            # Compute critic loss\n",
    "            critic_loss = compute_critic_loss(\n",
    "                self.cfg, reward, must_bootstrap, done, q_values, action\n",
    "            )\n",
    "\n",
    "            # Store the loss for tensorboard display\n",
    "            self.logger.add_log(\"critic_loss\", critic_loss, self.nb_steps)\n",
    "            dqn.logger.add_log(\"q_values/min\", q_values.max(-1).values.min(), dqn.nb_steps)\n",
    "            dqn.logger.add_log(\"q_values/max\", q_values.max(-1).values.max(), dqn.nb_steps)\n",
    "            dqn.logger.add_log(\"q_values/mean\", q_values.max(-1).values.mean(), dqn.nb_steps)\n",
    "\n",
    "            # Gradient step\n",
    "            self.optimizer.zero_grad()\n",
    "            critic_loss.backward()\n",
    "            torch.nn.utils.clip_grad_norm_(\n",
    "                self.q_agent.parameters(), self.cfg.algorithm.max_grad_norm\n",
    "            )\n",
    "            self.optimizer.step()\n",
    "\n",
    "            # Evaluate the current policy (if needed)\n",
    "            self.evaluate()"
   ]
  },
  {
   "cell_type": "code",
   "execution_count": 25,
   "id": "b8e94bd7",
   "metadata": {
    "lines_to_next_cell": 2
   },
   "outputs": [
    {
     "name": "stdout",
     "output_type": "stream",
     "text": [
      "The tensorboard extension is already loaded. To reload it, use:\n",
      "  %reload_ext tensorboard\n"
     ]
    },
    {
     "data": {
      "text/plain": [
       "Reusing TensorBoard on port 6006 (pid 123260), started 0:00:43 ago. (Use '!kill 123260' to kill it.)"
      ]
     },
     "metadata": {},
     "output_type": "display_data"
    },
    {
     "data": {
      "text/html": [
       "\n",
       "      <iframe id=\"tensorboard-frame-55e8228120c6f72d\" width=\"100%\" height=\"800\" frameborder=\"0\">\n",
       "      </iframe>\n",
       "      <script>\n",
       "        (function() {\n",
       "          const frame = document.getElementById(\"tensorboard-frame-55e8228120c6f72d\");\n",
       "          const url = new URL(\"http://localhost\");\n",
       "          const port = 6006;\n",
       "          if (port) {\n",
       "            url.port = port;\n",
       "          }\n",
       "          frame.src = url;\n",
       "        })();\n",
       "      </script>\n",
       "    "
      ],
      "text/plain": [
       "<IPython.core.display.HTML object>"
      ]
     },
     "metadata": {},
     "output_type": "display_data"
    }
   ],
   "source": [
    "# We setup tensorboard before running DQN\n",
    "setup_tensorboard(\"./outputs/tblogs\")"
   ]
  },
  {
   "cell_type": "code",
   "execution_count": 26,
   "id": "900cfc7c",
   "metadata": {},
   "outputs": [
    {
     "name": "stderr",
     "output_type": "stream",
     "text": [
      "2024-10-06 20:56:33.210966: E external/local_xla/xla/stream_executor/cuda/cuda_fft.cc:485] Unable to register cuFFT factory: Attempting to register factory for plugin cuFFT when one has already been registered\n",
      "2024-10-06 20:56:33.416039: E external/local_xla/xla/stream_executor/cuda/cuda_dnn.cc:8454] Unable to register cuDNN factory: Attempting to register factory for plugin cuDNN when one has already been registered\n",
      "2024-10-06 20:56:33.472849: E external/local_xla/xla/stream_executor/cuda/cuda_blas.cc:1452] Unable to register cuBLAS factory: Attempting to register factory for plugin cuBLAS when one has already been registered\n",
      "2024-10-06 20:56:35.274005: I tensorflow/core/platform/cpu_feature_guard.cc:210] This TensorFlow binary is optimized to use available CPU instructions in performance-critical operations.\n",
      "To enable the following instructions: AVX2 FMA, in other operations, rebuild TensorFlow with the appropriate compiler flags.\n",
      "2024-10-06 20:56:37.694835: W tensorflow/compiler/tf2tensorrt/utils/py_utils.cc:38] TF-TRT Warning: Could not find TensorRT\n"
     ]
    }
   ],
   "source": [
    "params = {\n",
    "    \"save_best\": False,\n",
    "    \"base_dir\": \"${gym_env.env_name}/dqn-simple-S${algorithm.seed}_${current_time:}\",\n",
    "    \"collect_stats\": True,\n",
    "    \"algorithm\": {\n",
    "        \"seed\": 3,\n",
    "        \"max_grad_norm\": 0.5,\n",
    "        \"epsilon\": 0.1,\n",
    "        \"n_envs\": 8,\n",
    "        \"eval_interval\": 5_000,\n",
    "        \"max_epochs\": 500,\n",
    "        \"nb_evals\": 10,\n",
    "        \"discount_factor\": 0.99,\n",
    "        \"architecture\": {\"hidden_size\": [256, 256]},\n",
    "    },\n",
    "    \"gym_env\": {\n",
    "        \"env_name\": \"CartPole-v1\",\n",
    "    },\n",
    "    \"optimizer\": {\n",
    "        \"classname\": \"torch.optim.Adam\",\n",
    "        \"lr\": 2e-3,\n",
    "    },\n",
    "}\n",
    "\n",
    "dqn = EpisodicDQN(OmegaConf.create(params))"
   ]
  },
  {
   "cell_type": "code",
   "execution_count": 27,
   "id": "3e03b52c",
   "metadata": {},
   "outputs": [
    {
     "data": {
      "application/vnd.jupyter.widget-view+json": {
       "model_id": "cae789360f724e039636f216b3f466d8",
       "version_major": 2,
       "version_minor": 0
      },
      "text/plain": [
       "  0%|          | 0/500 [00:00<?, ?it/s]"
      ]
     },
     "metadata": {},
     "output_type": "display_data"
    },
    {
     "name": "stdout",
     "output_type": "stream",
     "text": [
      "Video of best agent recorded in outputs/CartPole-v1/dqn-simple-S3_20241006-205631/best_agent.mp4\n",
      "Moviepy - Building video /home/amailys/TP/RLD/TP3/outputs/CartPole-v1/dqn-simple-S3_20241006-205631/best_agent.mp4.\n",
      "Moviepy - Writing video /home/amailys/TP/RLD/TP3/outputs/CartPole-v1/dqn-simple-S3_20241006-205631/best_agent.mp4\n",
      "\n"
     ]
    },
    {
     "name": "stderr",
     "output_type": "stream",
     "text": [
      "                                                               \r"
     ]
    },
    {
     "name": "stdout",
     "output_type": "stream",
     "text": [
      "Moviepy - Done !\n",
      "Moviepy - video ready /home/amailys/TP/RLD/TP3/outputs/CartPole-v1/dqn-simple-S3_20241006-205631/best_agent.mp4\n"
     ]
    },
    {
     "data": {
      "text/html": [
       "<div align=middle><video src='data:video/mp4;base64,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' controls>Sorry, seems like your browser doesn't support HTML5 audio/video</video></div>"
      ],
      "text/plain": [
       "<moviepy.video.io.html_tools.HTML2 object>"
      ]
     },
     "execution_count": 27,
     "metadata": {},
     "output_type": "execute_result"
    }
   ],
   "source": [
    "# Run and visualize the best agent\n",
    "dqn.run()\n",
    "dqn.visualize_best()"
   ]
  },
  {
   "cell_type": "markdown",
   "id": "f13d2fe6",
   "metadata": {},
   "source": [
    "## What's next?\n",
    "\n",
    "To get a full DQN, we need to do the following:\n",
    "- Add a replay buffer. We can add a replay buffer independently from the\n",
    "  target network. The version with a replay buffer and no target network\n",
    "  corresponds to [the NQF\n",
    "  algorithm](https://link.springer.com/content/pdf/10.1007/11564096_32.pdf).\n",
    "  This will be the aim of the next notebook.\n",
    "- Before adding the replay buffer, we will first move to a version of DQN\n",
    "  which uses the AutoResetGymAgent. This will be the aim of the next notebook\n",
    "  too.\n",
    "- We should also add a few extra-mechanisms which are present in the full DQN\n",
    "  version: starting to learn once the replay buffer is full enough, decreasing\n",
    "  the exploration rate epsilon...\n",
    "<!-- - We could also add visualization tools to visualize the learned Q network, by using the `plot_critic` function available in [`bbrl.visu.visu_critics`](https://github.com/osigaud/bbrl/blob/master/src/bbrl/visu/visu_critics.py#L13) -->"
   ]
  }
 ],
 "metadata": {
  "jupytext": {
   "cell_markers": "\"\"\""
  },
  "kernelspec": {
   "display_name": "deepdac",
   "language": "python",
   "name": "python3"
  },
  "language_info": {
   "codemirror_mode": {
    "name": "ipython",
    "version": 3
   },
   "file_extension": ".py",
   "mimetype": "text/x-python",
   "name": "python",
   "nbconvert_exporter": "python",
   "pygments_lexer": "ipython3",
   "version": "3.12.3"
  }
 },
 "nbformat": 4,
 "nbformat_minor": 5
}
