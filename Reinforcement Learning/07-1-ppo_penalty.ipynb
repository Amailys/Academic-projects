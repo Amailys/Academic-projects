{
 "cells": [
  {
   "cell_type": "markdown",
   "id": "20641996",
   "metadata": {},
   "source": [
    " Copyright © Sorbonne University.\n",
    "\n",
    " This source code is licensed under the MIT license found in the LICENSE file\n",
    " in the root directory of this source tree."
   ]
  },
  {
   "cell_type": "markdown",
   "id": "7901a134",
   "metadata": {},
   "source": [
    "# Outlook\n",
    "\n",
    "In this notebook we code one version of the [Proximal Policy Optimization\n",
    "(PPO)](https://arxiv.org/pdf/1707.06347.pdf) algorithms using BBRL. More\n",
    "precisely, the version here is the one that uses the KL penalty as a\n",
    "regularization term when optimizing the policy gradient.\n",
    "\n",
    "The PPO algorithm is superficially explained in [this\n",
    "video](https://www.youtube.com/watch?v=uRNL93jV2HE) and you can also read [the\n",
    "corresponding slides](http://pages.isir.upmc.fr/~sigaud/teach/ps/10_ppo.pdf).\n",
    "\n",
    "It is also a good idea to have a look at the [spinning up\n",
    "documentation](https://spinningup.openai.com/en/latest/algorithms/ppo.html).\n",
    "\n",
    "This version of PPO works, but it incorrectly samples minibatches randomly\n",
    "from the rollouts without making sure that each sample is used once and only\n",
    "once See:\n",
    "https://iclr-blog-track.github.io/2022/03/25/ppo-implementation-details/ for a\n",
    "full description of all the coding tricks that should be integrated"
   ]
  },
  {
   "cell_type": "markdown",
   "id": "15468657",
   "metadata": {},
   "source": [
    "# Setting up the environment\n",
    "We first need to setup the environment\n",
    "Installs the necessary Python and system libraries"
   ]
  },
  {
   "cell_type": "code",
   "execution_count": 1,
   "id": "d9858ab5",
   "metadata": {},
   "outputs": [
    {
     "name": "stderr",
     "output_type": "stream",
     "text": [
      "/home/amailys/deepdac/lib/python3.12/site-packages/bbrl_utils/notebook.py:46: TqdmExperimentalWarning: Using `tqdm.autonotebook.tqdm` in notebook mode. Use `tqdm.tqdm` instead to force console mode (e.g. in jupyter console)\n",
      "  from tqdm.autonotebook import tqdm  # noqa: F401\n",
      "error: XDG_RUNTIME_DIR is invalid or not set in the environment.\n"
     ]
    }
   ],
   "source": [
    "try:\n",
    "    from easypip import easyimport\n",
    "except ModuleNotFoundError:\n",
    "    from subprocess import run\n",
    "    assert run([\"pip\", \"install\", \"easypip\"]).returncode == 0, \"Could not install easypip\"\n",
    "    from easypip import easyimport\n",
    "\n",
    "easyimport(\"swig\")\n",
    "easyimport(\"bbrl_utils\").setup()\n",
    "\n",
    "import copy\n",
    "import os\n",
    "\n",
    "import torch\n",
    "import torch.nn as nn\n",
    "from bbrl.agents import Agent, Agents, KWAgentWrapper, TemporalAgent\n",
    "from bbrl_utils.algorithms import EpisodicAlgo, iter_partial_episodes\n",
    "from bbrl_utils.nn import build_ortho_mlp, setup_optimizer\n",
    "from bbrl_utils.notebook import setup_tensorboard\n",
    "from omegaconf import OmegaConf\n",
    "\n",
    "from bbrl_utils.nn import copy_parameters"
   ]
  },
  {
   "cell_type": "markdown",
   "id": "a4c90c8e",
   "metadata": {},
   "source": [
    "# Learning environment\n",
    "\n",
    "## Configuration\n",
    "\n",
    "The learning environment is controlled by a configuration that define a few\n",
    "important things as described in the example below. This configuration can\n",
    "hold as many extra information as you need, the example below is the minimal\n",
    "one.\n",
    "\n",
    "```python\n",
    "params = {\n",
    "    # This defines the a path for logs and saved models\n",
    "    \"base_dir\": \"${gym_env.env_name}/myalgo_${current_time:}\",\n",
    "\n",
    "    # The Gymnasium environment\n",
    "    \"gym_env\": {\n",
    "        \"env_name\": \"CartPoleContinuous-v1\",\n",
    "    },\n",
    "\n",
    "    # Algorithm\n",
    "    \"algorithm\": {\n",
    "        # Seed used for the random number generator\n",
    "        \"seed\": 1023,\n",
    "\n",
    "        # Number of parallel training environments\n",
    "        \"n_envs\": 8,\n",
    "                \n",
    "        # Minimum number of steps between two evaluations\n",
    "        \"eval_interval\": 500,\n",
    "        \n",
    "        # Number of parallel evaluation environments\n",
    "        \"nb_evals\": 10,\n",
    "\n",
    "        # Number of epochs (loops)\n",
    "        \"max_epochs\": 40000,\n",
    "\n",
    "        # Number of steps (partial iteration)\n",
    "        \"n_steps\": 100,\n",
    "        \n",
    "    },\n",
    "}\n",
    "\n",
    "# Creates the configuration object, i.e. cfg.algorithm.nb_evals is 10\n",
    "cfg = OmegaConf.create(params)\n",
    "```\n",
    "\n",
    "## The RL algorithm\n",
    "\n",
    "In this notebook, the RL algorithm is based on `EpisodicAlgo`, that defines\n",
    "the algorithm environment when using episodes. To use such environment, we\n",
    "just need to subclass `EpisodicAlgo` and to define two things, namely the\n",
    "`train_policy` and the `eval_policy`. Both are BBRL agents that, given the\n",
    "environment state, select the action to perform.\n",
    "\n",
    "```py\n",
    "  class MyAlgo(EpisodicAlgo):\n",
    "      def __init__(self, cfg):\n",
    "          super().__init__(cfg)\n",
    "\n",
    "          # Define the train and evaluation policies\n",
    "          # (the agents compute the workspace `action` variable)\n",
    "          self.train_policy = MyPolicyAgent(...)\n",
    "          self.eval_policy = MyEvalAgent(...)\n",
    "\n",
    "algo = MyAlgo(cfg)\n",
    "```\n",
    "\n",
    "The `EpisodicAlgo` defines useful objects:\n",
    "\n",
    "- `algo.cfg` is the configuration\n",
    "- `algo.nb_steps` (integer) is the number of steps since the training began\n",
    "- `algo.logger` is a logger that can be used to collect statistics during training:\n",
    "    - `algo.logger.add_log(\"critic_loss\", critic_loss, algo.nb_steps)` registers the `critic_loss` value on tensorboard\n",
    "- `algo.evaluate()` evaluates the current `eval_policy` if needed, and keeps the\n",
    "agent if it was the best so far (average cumulated reward);\n",
    "- `algo.visualize_best()` runs the best agent on one episode, and displays the video\n",
    "\n",
    "\n",
    "\n",
    "Besides, it also defines an `iter_episodes` that allows to iterate over partial\n",
    "episodes (with `n_steps` from `n_envs` environments):\n",
    "\n",
    "```python3\n",
    "  # with partial episodes\n",
    "  for workspace in algo.iter_partial_episodes():\n",
    "      # workspace is a workspace containing 50 transitions\n",
    "      # (with autoreset)\n",
    "      ...\n",
    "```"
   ]
  },
  {
   "cell_type": "markdown",
   "id": "bd52901b",
   "metadata": {
    "lines_to_next_cell": 2
   },
   "source": [
    "## Definition of PPO agents\n",
    "\n",
    "### Critic agent\n",
    "\n",
    "As A2C, PPO uses a value function $V(s)$. We thus call upon the `VAgent`\n",
    "class,  which takes an observation as input and whose output is the value of\n",
    "this observation."
   ]
  },
  {
   "cell_type": "code",
   "execution_count": 2,
   "id": "bde509d2",
   "metadata": {
    "lines_to_next_cell": 2
   },
   "outputs": [],
   "source": [
    "class VAgent(Agent):\n",
    "    def __init__(self, state_dim, hidden_layers, name=\"critic\"):\n",
    "        super().__init__(name=name)\n",
    "        self.is_q_function = False\n",
    "        self.model = build_ortho_mlp(\n",
    "            [state_dim] + list(hidden_layers) + [1], activation=nn.ReLU()\n",
    "        )\n",
    "\n",
    "    def forward(self, t, **kwargs):\n",
    "        observation = self.get((\"env/env_obs\", t))\n",
    "        critic = self.model(observation).squeeze(-1)\n",
    "        self.set((f\"{self.prefix}v_values\", t), critic)"
   ]
  },
  {
   "cell_type": "markdown",
   "id": "b4518b95",
   "metadata": {
    "lines_to_next_cell": 2
   },
   "source": [
    "### KL penalty agent\n",
    "\n",
    "When computing the KL penalty, we need to compute the KL divergence at every\n",
    "time step. The KLAgent is specific to the KL regularization version of PPO. It\n",
    "is used to compute the KL divergence between the current and the past policy."
   ]
  },
  {
   "cell_type": "code",
   "execution_count": 3,
   "id": "d61be84d",
   "metadata": {
    "lines_to_next_cell": 2
   },
   "outputs": [],
   "source": [
    "class KLAgent(Agent):\n",
    "    def __init__(self, model_1, model_2):\n",
    "        super().__init__()\n",
    "        self.model_1 = model_1\n",
    "        self.model_2 = model_2\n",
    "\n",
    "    def forward(self, t, **kwargs):\n",
    "        obs = self.get((\"env/env_obs\", t))\n",
    "        dist_1 = self.model_1.dist(obs)\n",
    "        dist_2 = self.model_2.dist(obs)\n",
    "        kl = torch.distributions.kl.kl_divergence(dist_1, dist_2)\n",
    "        self.set((\"kl\", t), kl)"
   ]
  },
  {
   "cell_type": "markdown",
   "id": "e917e658",
   "metadata": {
    "lines_to_next_cell": 2
   },
   "source": [
    "### The DiscretePolicy\n",
    "\n",
    "The DiscretePolicy was already used in A2C to deal with discrete actions, but\n",
    "we have added the possibility to only predict the probability of an action\n",
    "using the ```predict_proba``` variable in the ```forward()``` function. The\n",
    "code is as follows."
   ]
  },
  {
   "cell_type": "code",
   "execution_count": 4,
   "id": "19b41d8a",
   "metadata": {
    "lines_to_next_cell": 2
   },
   "outputs": [],
   "source": [
    "class DiscretePolicy(Agent):\n",
    "    def __init__(self, state_dim, hidden_size, n_actions, name=\"policy\"):\n",
    "        super().__init__(name=name)\n",
    "        self.model = build_ortho_mlp(\n",
    "            [state_dim] + list(hidden_size) + [n_actions], activation=nn.ReLU()\n",
    "        )\n",
    "\n",
    "    def dist(self, obs):\n",
    "        scores = self.model(obs)\n",
    "        probs = torch.softmax(scores, dim=-1)\n",
    "        return torch.distributions.Categorical(probs)\n",
    "\n",
    "    def forward(\n",
    "        self,\n",
    "        t,\n",
    "        *,\n",
    "        stochastic=True,\n",
    "        predict_proba=False,\n",
    "        compute_entropy=False,\n",
    "        **kwargs,\n",
    "    ):\n",
    "        \"\"\"\n",
    "        Compute the action given either a time step (looking into the workspace)\n",
    "        or an observation (in kwargs)\n",
    "        \"\"\"\n",
    "        observation = self.get((\"env/env_obs\", t))\n",
    "        scores = self.model(observation)\n",
    "        probs = torch.softmax(scores, dim=-1)\n",
    "\n",
    "        if predict_proba:\n",
    "            action = self.get((\"action\", t))\n",
    "            log_probs = probs[torch.arange(probs.size()[0]), action].log()\n",
    "            self.set((f\"{self.prefix}logprob_predict\", t), log_probs)\n",
    "        else:\n",
    "            if stochastic:\n",
    "                action = torch.distributions.Categorical(probs).sample()\n",
    "            else:\n",
    "                action = scores.argmax(1)\n",
    "\n",
    "            self.set((\"action\", t), action)\n",
    "\n",
    "        if compute_entropy:\n",
    "            entropy = torch.distributions.Categorical(probs).entropy()\n",
    "            self.set((f\"{self.prefix}entropy\", t), entropy)"
   ]
  },
  {
   "cell_type": "markdown",
   "id": "39c71668",
   "metadata": {
    "lines_to_next_cell": 2
   },
   "source": [
    "### Main PPO agent\n",
    "\n",
    "In the following, we create the PPO Agent, with one policy and one critic,\n",
    "and their \"delayed\" versions (target network for the critic, and previous \n",
    "policy in the inner loop of the optimization)."
   ]
  },
  {
   "cell_type": "code",
   "execution_count": 5,
   "id": "463f6721",
   "metadata": {
    "lines_to_next_cell": 2
   },
   "outputs": [],
   "source": [
    "class PPOPenalty(EpisodicAlgo):\n",
    "    def __init__(self, cfg):\n",
    "        super().__init__(cfg, autoreset=True)\n",
    "\n",
    "        obs_size, act_size = self.train_env.get_obs_and_actions_sizes()\n",
    "        \n",
    "        self.train_policy = globals()[cfg.algorithm.policy_type](\n",
    "            obs_size,\n",
    "            cfg.algorithm.architecture.actor_hidden_size,\n",
    "            act_size,\n",
    "        ).with_prefix(\"current_policy/\")\n",
    "        \n",
    "        self.eval_policy = KWAgentWrapper(\n",
    "            self.train_policy, \n",
    "            stochastic=False,\n",
    "            predict_proba=False,\n",
    "            compute_entropy=False,\n",
    "        )\n",
    "\n",
    "        self.critic_agent = VAgent(\n",
    "            obs_size, cfg.algorithm.architecture.critic_hidden_size\n",
    "        ).with_prefix(\"critic/\")\n",
    "        \n",
    "        self.old_critic_agent = copy.deepcopy(self.critic_agent).with_prefix(\"old_critic/\")\n",
    "        \n",
    "        self.t_all_critics = TemporalAgent(\n",
    "            Agents(self.critic_agent, self.old_critic_agent)\n",
    "        )\n",
    "\n",
    "        self.old_policy = copy.deepcopy(self.train_policy)\n",
    "        self.old_policy.with_prefix(\"old_policy/\")\n",
    "        \n",
    "        self.t_kl_agent = TemporalAgent(KLAgent(self.old_policy, self.train_policy))\n",
    "\n",
    "        self.policy_optimizer = setup_optimizer(\n",
    "            cfg.optimizer, self.train_policy\n",
    "        )\n",
    "        self.critic_optimizer = setup_optimizer(\n",
    "            cfg.optimizer, self.critic_agent\n",
    "        )"
   ]
  },
  {
   "cell_type": "markdown",
   "id": "84b557e9",
   "metadata": {
    "lines_to_next_cell": 2
   },
   "source": [
    "### Main PPO loop\n",
    "\n",
    "In the cell below, we optimize the policy loss for PPO-KL, i.e.\n",
    "$$\n",
    "\\max_{\\theta} \\hat{\\mathbb{E}} _t\\left[\\frac{\\pi_\\theta\\left(a_t \\mid s_t\\right)}{\\pi_{\\theta_{\\text {old }}}\\left(a_t \\mid s_t\\right)} \\hat{A}_t-\\beta \\operatorname{KL}\\left[\\pi_{\\theta_{\\text {old }}}\\left(\\cdot \\mid s_t\\right), \\pi_\\theta\\left(\\cdot \\mid s_t\\right)\\right]\\right]\n",
    "$$"
   ]
  },
  {
   "cell_type": "code",
   "execution_count": null,
   "id": "2dd63705",
   "metadata": {
    "lines_to_next_cell": 2
   },
   "outputs": [],
   "source": [
    "from bbrl.utils.functional import gae\n",
    "\n",
    "\n",
    "def run_ppo_penalty(ppo: PPOPenalty):\n",
    "    cfg = ppo.cfg\n",
    "\n",
    "    # The old_policy params must be wrapped into a TemporalAgent\n",
    "    t_old_policy = TemporalAgent(ppo.old_policy)\n",
    "\n",
    "    # Training loop\n",
    "    for train_workspace in ppo.iter_partial_episodes():\n",
    "        # Run the current policy and evaluate the proba of its action according\n",
    "        # to the old policy The old_policy can be run after the train_agent on\n",
    "        # the same workspace because it writes a logprob_predict and not an\n",
    "        # action. That is, it does not determine the action of the old_policy,\n",
    "        # it just determines the proba of the action of the current policy given\n",
    "        # its own probabilities\n",
    "\n",
    "        # Exécutez la politique actuelle et évaluez la probabilité de son action selon l'ancienne politique. \n",
    "        # L'ancienne politique peut être exécutée après l'entraînement de l'agent dans le même espace de travail \n",
    "        # car elle écrit un logprob_predict et non une action. C'est-à-dire qu'elle ne détermine pas l'action de l'ancienne politique, \n",
    "        # elle détermine simplement la probabilité de l'action de la politique actuelle en fonction de ses propres probabilités.\n",
    "\n",
    "        # Compute the critic value over the whole workspace\n",
    "        ppo.t_all_critics(train_workspace, t=0, n_steps=cfg.algorithm.n_steps)\n",
    "\n",
    "        ws_terminated, ws_reward, ws_v_value, ws_old_v_value = train_workspace[\n",
    "            \"env/terminated\",\n",
    "            \"env/reward\",\n",
    "            \"critic/v_values\",\n",
    "            \"old_critic/v_values\",\n",
    "        ]\n",
    "\n",
    "        # --- Critic optimization\n",
    "\n",
    "        # Avoids to extreme V-values (helps stability)\n",
    "        if cfg.algorithm.clip_range_vf > 0:\n",
    "            # Clip the difference between old and new values\n",
    "            # NOTE: this depends on the reward scaling\n",
    "            ws_v_value = ws_old_v_value + torch.clamp(\n",
    "                ws_v_value - ws_old_v_value,\n",
    "                -cfg.algorithm.clip_range_vf,\n",
    "                cfg.algorithm.clip_range_vf,\n",
    "            )\n",
    "\n",
    "        # Compute the advantage using the (clamped) critic values\n",
    "        with torch.no_grad():\n",
    "            advantage = gae(\n",
    "                ws_reward[1:],\n",
    "                ws_v_value[1:],\n",
    "                ~ws_terminated[1:],\n",
    "                ws_v_value[:-1],\n",
    "                cfg.algorithm.discount_factor,\n",
    "                cfg.algorithm.gae,\n",
    "            )\n",
    "        \n",
    "        # Compute the critic loss with TD(0)\n",
    "        target = ws_reward[1:] + cfg.algorithm.discount_factor * ws_old_v_value[1:].detach() * (1 - ws_terminated[1:].int())\n",
    "        critic_loss = torch.nn.functional.mse_loss(ws_v_value[:-1], target) * cfg.algorithm.critic_coef\n",
    "        ppo.critic_optimizer.zero_grad()\n",
    "        critic_loss.backward()\n",
    "        torch.nn.utils.clip_grad_norm_(\n",
    "            ppo.critic_agent.parameters(), cfg.algorithm.max_grad_norm\n",
    "        )\n",
    "        ppo.critic_optimizer.step()\n",
    "        \n",
    "        # --- Policy optimization\n",
    "\n",
    "        # We store the advantage into the train_workspace\n",
    "        if cfg.algorithm.normalize_advantage and advantage.shape[1] > 1:\n",
    "            advantage = (advantage - advantage.mean()) / (advantage.std() + 1e-8)\n",
    "        train_workspace.set_full(\"advantage\", torch.cat(\n",
    "            (advantage, torch.zeros(1, advantage.shape[1]))\n",
    "        ))\n",
    "\n",
    "        with torch.no_grad():\n",
    "            # Just computes the probability of the old policy's action\n",
    "            # to get the ratio of probabilities\n",
    "            t_old_policy(\n",
    "                train_workspace,\n",
    "                t=0,\n",
    "                n_steps=cfg.algorithm.n_steps,\n",
    "                predict_proba=True,\n",
    "                compute_entropy=False,\n",
    "            )\n",
    "\n",
    "        transition_workspace = train_workspace.get_transitions()\n",
    "        for opt_epoch in range(cfg.algorithm.opt_epochs):\n",
    "            if cfg.algorithm.batch_size > 0:\n",
    "                sample_workspace = transition_workspace.select_batch_n(\n",
    "                    cfg.algorithm.batch_size\n",
    "                )\n",
    "            else:\n",
    "                sample_workspace = transition_workspace\n",
    "\n",
    "            # Compute the policy loss\n",
    "            policy_advantage = sample_workspace['advantage'][0]\n",
    "\n",
    "            # Compute the KL divergence\n",
    "            ppo.t_kl_agent(sample_workspace,t=0,n_steps=1)\n",
    "            kl = sample_workspace[\"kl\"][0]\n",
    "            \n",
    "\n",
    "            # Compute the probability of the played actions according to the current policy\n",
    "            # We do not replay the action: we use the one stored into the dataset\n",
    "            # Note that the policy is not wrapped into a TemporalAgent, but we use a single step\n",
    "            #Compute the ratio of action probabilities\n",
    "            # Compute the policy loss\n",
    "\n",
    "            \n",
    "            ppo.train_policy(sample_workspace,t=0,predict_proba=True,compute_entropy=True)\n",
    "            \n",
    "            old_action_probs = torch.exp(sample_workspace['old_policy/logprob_predict'][0])\n",
    "            current_action_probs = torch.exp(sample_workspace['current_policy/logprob_predict'][0])\n",
    "\n",
    "            policy_loss = torch.mean(current_action_probs/old_action_probs * policy_advantage - cfg.algorithm.beta*kl )\n",
    "\n",
    "            loss_policy = -cfg.algorithm.policy_coef * policy_loss\n",
    "\n",
    "            # Entropy loss favors exploration\n",
    "            # Note that the standard PPO algorithms do not have an entropy term, they don't need it\n",
    "            # because the KL term is supposed to deal with exploration\n",
    "            # So, to run the standard PPO algorithm, you should set cfg.algorithm.entropy_coef=0\n",
    "            cfg.algorithm.entropy_coef=0\n",
    "            entropy = sample_workspace[\"current_policy/entropy\"]\n",
    "            assert len(entropy) == 1, f\"{entropy.shape}\"\n",
    "            entropy_loss = entropy[0].mean()\n",
    "            loss_entropy = -cfg.algorithm.entropy_coef * entropy_loss\n",
    "\n",
    "            # Store the losses for tensorboard display\n",
    "            ppo.logger.log_losses(critic_loss, entropy_loss, policy_loss, ppo.nb_steps)\n",
    "            ppo.logger.add_log(\"advantage\", policy_advantage.mean(), ppo.nb_steps)\n",
    "\n",
    "            ppo.policy_optimizer.zero_grad()\n",
    "            loss = loss_policy + loss_entropy\n",
    "            loss.backward()\n",
    "            torch.nn.utils.clip_grad_norm_(\n",
    "                ppo.train_policy.parameters(), cfg.algorithm.max_grad_norm\n",
    "            )\n",
    "            ppo.policy_optimizer.step()\n",
    "\n",
    "        # Copy parameters\n",
    "        copy_parameters(ppo.train_policy, ppo.old_policy)\n",
    "        copy_parameters(ppo.critic_agent, ppo.old_critic_agent)\n",
    "        \n",
    "        # Evaluate\n",
    "        ppo.evaluate()"
   ]
  },
  {
   "cell_type": "markdown",
   "id": "debd4e00",
   "metadata": {
    "lines_to_next_cell": 2
   },
   "source": [
    "## Definition of the parameters"
   ]
  },
  {
   "cell_type": "code",
   "execution_count": 8,
   "id": "e502e866",
   "metadata": {},
   "outputs": [],
   "source": [
    "params = {\n",
    "    \"base_dir\": \"${gym_env.env_name}/ppo-kl-S${algorithm.seed}-b${algorithm.beta}_${current_time:}\",\n",
    "    \"save_best\": False,\n",
    "    \"algorithm\": {\n",
    "        \"seed\": 12,\n",
    "        \"n_envs\": 8,\n",
    "        \"n_steps\": 32,\n",
    "        \"normalize_advantage\": False,\n",
    "        \"eval_interval\": 1000,\n",
    "        \"nb_evals\": 10,\n",
    "        \"gae\": 0.8,\n",
    "        \"discount_factor\": 0.98,\n",
    "        \"opt_epochs\": 10,\n",
    "        \"batch_size\": 256,\n",
    "        \"max_grad_norm\": 0.5,\n",
    "        \"policy_coef\": 1.,\n",
    "        \"beta\": 5.0,\n",
    "        \"clip_range_vf\": 0,\n",
    "        \"entropy_coef\": 2e-7,\n",
    "        \"critic_coef\": 1.0,\n",
    "        \"policy_type\": \"DiscretePolicy\",\n",
    "        \"architecture\": {\n",
    "            \"actor_hidden_size\": [64, 64],\n",
    "            \"critic_hidden_size\": [64, 64],\n",
    "        },\n",
    "        \"max_epochs\": 5000,\n",
    "    },\n",
    "    \"gym_env\": {\n",
    "        \"env_name\": \"CartPole-v1\",\n",
    "    },\n",
    "    \"optimizer\": {\n",
    "        \"classname\": \"torch.optim.Adam\",\n",
    "        \"lr\": 1e-3,\n",
    "        \"eps\": 1e-5,\n",
    "    },\n",
    "}"
   ]
  },
  {
   "cell_type": "markdown",
   "id": "162b31fe",
   "metadata": {},
   "source": [
    "### Launching tensorboard to visualize the results"
   ]
  },
  {
   "cell_type": "code",
   "execution_count": 10,
   "id": "8366054f",
   "metadata": {},
   "outputs": [
    {
     "data": {
      "text/plain": [
       "ERROR: Timed out waiting for TensorBoard to start. It may still be running as pid 12589."
      ]
     },
     "metadata": {},
     "output_type": "display_data"
    }
   ],
   "source": [
    "setup_tensorboard(\"./outputs/tblogs\")"
   ]
  },
  {
   "cell_type": "code",
   "execution_count": 19,
   "id": "918d6f7c",
   "metadata": {},
   "outputs": [
    {
     "data": {
      "application/vnd.jupyter.widget-view+json": {
       "model_id": "a651124ba6264053998b23945f1965e8",
       "version_major": 2,
       "version_minor": 0
      },
      "text/plain": [
       "  0%|          | 0/5000 [00:00<?, ?it/s]"
      ]
     },
     "metadata": {},
     "output_type": "display_data"
    }
   ],
   "source": [
    "cfg = OmegaConf.create(params)\n",
    "ppo_kl = PPOPenalty(cfg)\n",
    "run_ppo_penalty(ppo_kl)"
   ]
  },
  {
   "cell_type": "code",
   "execution_count": 20,
   "id": "cc37f6b2",
   "metadata": {},
   "outputs": [
    {
     "name": "stdout",
     "output_type": "stream",
     "text": [
      "Video of best agent recorded in outputs/CartPole-v1/ppo-kl-S12-b5.0_20241118-202243/best_agent.mp4\n",
      "Moviepy - Building video /home/amailys/TP/RLD/TP6/outputs/CartPole-v1/ppo-kl-S12-b5.0_20241118-202243/best_agent.mp4.\n",
      "Moviepy - Writing video /home/amailys/TP/RLD/TP6/outputs/CartPole-v1/ppo-kl-S12-b5.0_20241118-202243/best_agent.mp4\n",
      "\n"
     ]
    },
    {
     "name": "stderr",
     "output_type": "stream",
     "text": [
      "                                                               \r"
     ]
    },
    {
     "name": "stdout",
     "output_type": "stream",
     "text": [
      "Moviepy - Done !\n",
      "Moviepy - video ready /home/amailys/TP/RLD/TP6/outputs/CartPole-v1/ppo-kl-S12-b5.0_20241118-202243/best_agent.mp4\n"
     ]
    },
    {
     "data": {
      "text/html": [
       "<div align=middle><video src='data:video/mp4;base64,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' controls>Sorry, seems like your browser doesn't support HTML5 audio/video</video></div>"
      ],
      "text/plain": [
       "<moviepy.video.io.html_tools.HTML2 object>"
      ]
     },
     "execution_count": 20,
     "metadata": {},
     "output_type": "execute_result"
    }
   ],
   "source": [
    "ppo_kl.visualize_best()"
   ]
  },
  {
   "cell_type": "code",
   "execution_count": null,
   "id": "6cb9894a",
   "metadata": {},
   "outputs": [],
   "source": []
  },
  {
   "cell_type": "markdown",
   "id": "326a17a0",
   "metadata": {},
   "source": [
    "In the cell below, we optimize the policy loss for PPO-clip, i.e.\n",
    "\n",
    "$$\n",
    "L^{C L I P}(\\theta)=\\hat{\\mathbb{E}}_t\\left[\\min \\left(r_t(\\theta) \\hat{A}_t, \\operatorname{clip}\\left(r_t(\\theta), 1-\\epsilon, 1+\\epsilon\\right) \\hat{A}_t\\right)\\right]\n",
    "$$\n",
    "where $$r_t(\\theta) = \\frac{\\pi_\\theta\\left(a_t \\mid s_t\\right)}{\\pi_{\\theta_{\\text {old }}}\\left(a_t \\mid s_t\\right)}$$\n",
    "\n",
    "Useful torch functions:\n",
    "- [torch.clamp](https://pytorch.org/docs/stable/generated/torch.clamp.html) computes $\\min(\\max(x_i, m_i), M_i)$ where $m_i$ and $M_i$ are the lower and upper bounds respectively"
   ]
  },
  {
   "cell_type": "markdown",
   "id": "0c147a07",
   "metadata": {},
   "source": []
  }
 ],
 "metadata": {
  "jupytext": {
   "cell_markers": "\"\"\""
  },
  "kernelspec": {
   "display_name": "deepdac",
   "language": "python",
   "name": "python3"
  },
  "language_info": {
   "codemirror_mode": {
    "name": "ipython",
    "version": 3
   },
   "file_extension": ".py",
   "mimetype": "text/x-python",
   "name": "python",
   "nbconvert_exporter": "python",
   "pygments_lexer": "ipython3",
   "version": "3.12.3"
  }
 },
 "nbformat": 4,
 "nbformat_minor": 5
}
