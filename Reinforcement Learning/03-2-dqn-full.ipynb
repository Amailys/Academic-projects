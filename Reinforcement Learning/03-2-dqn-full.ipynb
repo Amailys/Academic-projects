{
 "cells": [
  {
   "cell_type": "markdown",
   "id": "8e3d45d0",
   "metadata": {},
   "source": [
    " Copyright © Sorbonne University.\n",
    "\n",
    " This source code is licensed under the MIT license found in the LICENSE file\n",
    " in the root directory of this source tree."
   ]
  },
  {
   "cell_type": "markdown",
   "id": "05853864",
   "metadata": {},
   "source": [
    "# Outlook\n",
    "\n",
    "In this notebook, using BBRL, we code a version of the DQN algorithm with a\n",
    "replay buffer and a target network, using the AutoReset approach.\n",
    "\n",
    "To understand this code, you need to know more about\n",
    "[the BBRL interaction model](https://github.com/osigaud/bbrl/blob/master/docs/overview.md)\n",
    "Then you should run [a didactical example](https://github.com/osigaud/bbrl/blob/master/docs/notebooks/03-multi_env_autoreset.student.ipynb)\n",
    "to see how agents interact in BBRL when autoreset=True.\n",
    "\n",
    "The DQN algorithm is explained in [this\n",
    "video](https://www.youtube.com/watch?v=CXwvOMJujZk) and you can also read [the\n",
    "corresponding slides](http://pages.isir.upmc.fr/~sigaud/teach/dqn.pdf).\n",
    "\n",
    "In this notebook, we will modify the previous notebook:\n",
    "\n",
    "- to use a replay buffer and an environment that resets\n",
    "- to use a target network for $Q$\n",
    "- to use a better estimation for the maximum (Double-DQN)"
   ]
  },
  {
   "cell_type": "code",
   "execution_count": 16,
   "id": "e23189d5",
   "metadata": {
    "tags": [
     "hide-input"
    ]
   },
   "outputs": [],
   "source": [
    "# # Prepare the environment\n",
    "\n",
    "try:\n",
    "    from easypip import easyimport\n",
    "except ModuleNotFoundError:\n",
    "    from subprocess import run\n",
    "\n",
    "    assert (\n",
    "        run([\"pip\", \"install\", \"easypip\"]).returncode == 0\n",
    "    ), \"Could not install easypip\"\n",
    "    from easypip import easyimport\n",
    "\n",
    "easyimport(\"swig\")\n",
    "easyimport(\"bbrl_utils\").setup(maze_mdp=True)\n",
    "\n",
    "import os\n",
    "import copy\n",
    "import bbrl_gymnasium  # noqa: F401\n",
    "import torch\n",
    "import torch.nn as nn\n",
    "from bbrl.agents import Agent, Agents, TemporalAgent\n",
    "from bbrl_utils.algorithms import EpochBasedAlgo\n",
    "from bbrl_utils.nn import build_mlp, setup_optimizer, copy_parameters\n",
    "from bbrl_utils.notebook import setup_tensorboard\n",
    "from omegaconf import OmegaConf"
   ]
  },
  {
   "cell_type": "markdown",
   "id": "56665856",
   "metadata": {
    "lines_to_next_cell": 2
   },
   "source": [
    "# Learning environment\n",
    "\n",
    "## Configuration\n",
    "\n",
    "The learning environment is controlled by a configuration providing a few\n",
    "important things as described in the example below. This configuration can\n",
    "hold as many extra information as you need, the example below is the minimal\n",
    "one.\n",
    "\n",
    "```python\n",
    "params = {\n",
    "    # This defines the a path for logs and saved models\n",
    "    \"base_dir\": \"${gym_env.env_name}/myalgo_${current_time:}\",\n",
    "\n",
    "    # The Gymnasium environment\n",
    "    \"gym_env\": {\n",
    "        \"env_name\": \"CartPoleContinuous-v1\",\n",
    "    },\n",
    "\n",
    "    # Algorithm\n",
    "    \"algorithm\": {\n",
    "        # Seed used for the random number generator\n",
    "        \"seed\": 1023,\n",
    "\n",
    "        # Number of parallel training environments\n",
    "        \"n_envs\": 8,\n",
    "\n",
    "        # Number of transitions to collect at each epoch for an environment.\n",
    "        # This number has to be multiplied by n_envs to get the number of new transitions\n",
    "        # collected at each epoch.\n",
    "        \"n_steps\": 100,\n",
    "\n",
    "        # Number of transitions before starting to train\n",
    "        \"learning_starts\": 10_000,\n",
    "                \n",
    "        # Minimum number of steps between two evaluations\n",
    "        \"eval_interval\": 500,\n",
    "        \n",
    "        # Number of parallel evaluation environments\n",
    "        \"nb_evals\": 10,\n",
    "\n",
    "        # Number of epochs (loops)\n",
    "        \"max_epochs\": 40000,\n",
    "    },\n",
    "}\n",
    "\n",
    "# Creates the configuration object, i.e. cfg.algorithm.nb_evals is 10\n",
    "cfg = OmegaConf.create(params)\n",
    "```\n",
    "\n",
    "## The RL algorithm\n",
    "\n",
    "In this notebook, the RL algorithm is based on `EpochBasedAlgo`, that defines\n",
    "the algorithm environment when using episodes. To use such environment, we\n",
    "just need to subclass `EpochBasedAlgo` and to define two things, namely the\n",
    "`train_policy` and the `eval_policy`. Both are BBRL agents that, given the\n",
    "environment state, select the action to perform.\n",
    "\n",
    "```py\n",
    "  class MyAlgo(EpochBasedAlgo):\n",
    "      def __init__(self, cfg):\n",
    "          super().__init__(cfg)\n",
    "\n",
    "          # Define the train and evaluation policies\n",
    "          # (the agents compute the workspace `action` variable)\n",
    "          self.train_policy = MyPolicyAgent(...)\n",
    "          self.eval_policy = MyEvalAgent(...)\n",
    "\n",
    "algo = MyAlgo(cfg)\n",
    "```\n",
    "\n",
    "The `EpochBasedAlgo` defines useful objects:\n",
    "\n",
    "- `algo.cfg` is the configuration\n",
    "- `algo.nb_steps` (integer) is the number of steps since the training began\n",
    "- `algo.logger` is a logger that can be used to collect statistics during training:\n",
    "    - `algo.logger.add_log(\"critic_loss\", critic_loss, algo.nb_steps)` registers the `critic_loss` value on tensorboard\n",
    "- `algo.evaluate()` evaluates the current `eval_policy` if needed, and keeps the\n",
    "agent if it was the best so far (average cumulated reward);\n",
    "- `algo.visualize_best()` runs the best agent on one episode, and displays the video"
   ]
  },
  {
   "cell_type": "markdown",
   "id": "2f54963f",
   "metadata": {
    "lines_to_next_cell": 2
   },
   "source": [
    "## Definition of agents\n",
    "\n",
    "In the following, we define three agents:\n",
    "1. `DiscreteQAgent` the computes the Q-values\n",
    "2. `ArgmaxActionSelector` that selects the action that maximizes the Q-value\n",
    "3. `EGreedyActionSelector` which behaves randomly with probability $\\epsilon$,\n",
    "   and otherwise behaves as `ArgmaxActionSelector`\n",
    "\n",
    "Note that contrarily to previous notebooks, we work here with $n$ environments\n",
    "in parallel (first dimension of each tensor)\n",
    "\n",
    "### The critic agent\n",
    "\n",
    "The [DQN](https://daiwk.github.io/assets/dqn.pdf) algorithm is a critic only\n",
    "algorithm. Thus we just need a Critic agent (which will also be used to output\n",
    "actions) and an Environment agent. We reuse the `DiscreteQAgent` class that we\n",
    "have already explained in the previous notebook."
   ]
  },
  {
   "cell_type": "code",
   "execution_count": 17,
   "id": "464fc0f0",
   "metadata": {
    "lines_to_next_cell": 2
   },
   "outputs": [],
   "source": [
    "class DiscreteQAgent(Agent):\n",
    "    def __init__(self, state_dim, hidden_layers, action_dim):\n",
    "        super().__init__()\n",
    "        self.model = build_mlp(\n",
    "            [state_dim] + list(hidden_layers) + [action_dim], activation=nn.ReLU()\n",
    "        )\n",
    "\n",
    "    def forward(self, t, **kwargs):\n",
    "        obs = self.get((\"env/env_obs\", t))\n",
    "        q_values = self.model(obs)\n",
    "        self.set((f\"{self.prefix}q_values\", t), q_values)"
   ]
  },
  {
   "cell_type": "markdown",
   "id": "5c6b3049",
   "metadata": {},
   "source": [
    "### Creating an actor agent"
   ]
  },
  {
   "cell_type": "code",
   "execution_count": 18,
   "id": "31a0582f",
   "metadata": {
    "lines_to_next_cell": 2
   },
   "outputs": [],
   "source": [
    "class ArgmaxActionSelector(Agent):\n",
    "    \"\"\"BBRL agent that selects the best action based on Q(s,a)\"\"\"\n",
    "\n",
    "    def forward(self, t: int, **kwargs):\n",
    "        q_values = self.get((\"q_values\", t))\n",
    "        action = q_values.argmax(-1)\n",
    "        self.set((\"action\", t), action)"
   ]
  },
  {
   "cell_type": "markdown",
   "id": "29e18eb0",
   "metadata": {},
   "source": [
    "### Creating an Exploration method"
   ]
  },
  {
   "cell_type": "markdown",
   "id": "6c77ae71",
   "metadata": {
    "lines_to_next_cell": 2
   },
   "source": [
    "As Q-learning, DQN needs some exploration to prevent too early convergence.\n",
    "Here we will use the simple $\\epsilon$-greedy exploration method. The method\n",
    "is implemented as an agent which chooses an action based on the Q-values."
   ]
  },
  {
   "cell_type": "code",
   "execution_count": 19,
   "id": "5cfb497c",
   "metadata": {},
   "outputs": [],
   "source": [
    "class EGreedyActionSelector(Agent):\n",
    "    def __init__(self, epsilon):\n",
    "        super().__init__()\n",
    "        self.epsilon = epsilon\n",
    "\n",
    "    def forward(self, t: int, **kwargs):\n",
    "        # Retrieves the q values\n",
    "        # (matrix nb. of episodes x nb. of actions)\n",
    "        q_values: torch.Tensor = self.get((\"q_values\", t))\n",
    "        size, nb_actions = q_values.shape\n",
    "\n",
    "        # Flag\n",
    "        is_random = torch.rand(size) > self.epsilon\n",
    "        \n",
    "        # Actions (random / argmax)\n",
    "        random_action = torch.randint(nb_actions, size=(size,))\n",
    "        max_action = q_values.argmax(-1)\n",
    "\n",
    "        # Choose the action based on the is_random flag\n",
    "        action = torch.where(is_random, random_action, max_action)\n",
    "\n",
    "        # Sets the action at time t\n",
    "        self.set((\"action\", t), action)"
   ]
  },
  {
   "cell_type": "markdown",
   "id": "be046d25",
   "metadata": {
    "lines_to_next_cell": 2
   },
   "source": [
    "## Main training loop\n",
    "\n",
    "Note that everything about the shared workspace between all the agents is\n",
    "completely hidden under the hood. This results in a gain of productivity, at\n",
    "the expense of having to dig into the BBRL code if you want to understand the\n",
    "details, change the multiprocessing model, etc.\n",
    "\n",
    "### Agent execution\n",
    "\n",
    "This is the tricky part with BBRL, the one we need to understand in detail.\n",
    "The difficulty lies in the copy of the last step and the way to deal with the\n",
    "n_steps return.\n",
    "\n",
    "The call to `train_agent(workspace, t=1, n_steps=cfg.algorithm.n_timesteps -\n",
    "1, stochastic=True)` makes the agent run a number of steps in the workspace.\n",
    "In practice, it calls the\n",
    "[`__call__(...)`](https://github.com/osigaud/bbrl/blob/master/src/bbrl/agents/agent.py#L59)\n",
    "function which makes a forward pass of the agent network using the workspace\n",
    "data and updates the workspace accordingly.\n",
    "\n",
    "Now, if we start at the first epoch (`epoch=0`), we start from the first step\n",
    "(`t=0`). But when subsequently we perform the next epochs (`epoch>0`), we must\n",
    "not forget to cover the transition at the border between the previous epoch\n",
    "and the current epoch. To avoid this risk, we copy the information from the\n",
    "last time step of the previous epoch into the first time step of the next\n",
    "epoch.\n",
    "\n",
    "Note that we `optimizer.zero_grad()`, `loss.backward()` and `optimizer.step()`\n",
    "lines. `optimizer.zero_grad()` is necessary to cancel all the gradients\n",
    "computed at the previous iterations"
   ]
  },
  {
   "cell_type": "code",
   "execution_count": 20,
   "id": "df3ba30f",
   "metadata": {
    "lines_to_next_cell": 2
   },
   "outputs": [],
   "source": [
    "class DQN(EpochBasedAlgo):\n",
    "    def __init__(self, cfg):\n",
    "        super().__init__(cfg)\n",
    "\n",
    "        obs_size, act_size = self.train_env.get_obs_and_actions_sizes()\n",
    "\n",
    "        # Get the two agents (critic and target critic)\n",
    "        critic = DiscreteQAgent(\n",
    "            obs_size, cfg.algorithm.architecture.hidden_size, act_size\n",
    "        )\n",
    "        target_critic = copy.deepcopy(critic).with_prefix(\"target/\")\n",
    "\n",
    "        # Builds the train agent that will produce transitions\n",
    "        explorer = EGreedyActionSelector(cfg.algorithm.epsilon)\n",
    "        self.train_policy = Agents(critic, explorer)\n",
    "\n",
    "        self.eval_policy = Agents(critic, ArgmaxActionSelector())\n",
    "\n",
    "        # Creates two temporal agents just for \"replaying\" some parts\n",
    "        # of the transition buffer\n",
    "        self.t_q_agent = TemporalAgent(critic)\n",
    "        self.t_target_q_agent = TemporalAgent(target_critic)\n",
    "\n",
    "        # Get an agent that is executed on a complete workspace\n",
    "        self.optimizer = setup_optimizer(cfg.optimizer, self.t_q_agent)\n",
    "\n",
    "        self.last_critic_update_step = 0"
   ]
  },
  {
   "cell_type": "markdown",
   "id": "a8e0863d",
   "metadata": {
    "lines_to_next_cell": 2
   },
   "source": [
    "### Compute critic loss\n",
    "\n",
    "Detailed explanations of the function to compute the critic loss when using\n",
    "`autoreset=False` are given in [this\n",
    "notebook](http://master-dac.isir.upmc.fr/rld/rl/03-1-dqn-introduction.student.ipynb).\n",
    "The case where we use `autoreset=True` is very similar, but we need to\n",
    "specify that we use the first part of the Q-values (`q_values[0]`) for\n",
    "representing $Q(s_t,a_t)$ and the second part (`q_values[1]`) for representing\n",
    "$Q(s_{t+1},a)$, as these values are stored into a transition buffer."
   ]
  },
  {
   "cell_type": "code",
   "execution_count": 21,
   "id": "2f53cb1e",
   "metadata": {
    "lines_to_next_cell": 2
   },
   "outputs": [],
   "source": [
    "def dqn_compute_critic_loss(\n",
    "    cfg, reward, must_bootstrap, q_values, target_q_values, action\n",
    "):\n",
    "    \"\"\"Compute the critic loss\n",
    "\n",
    "    :param reward: The reward $r_t$ (shape 2 x B)\n",
    "    :param must_bootstrap: The must bootstrap flag at $t+1$ (shape 2 x B)\n",
    "    :param q_values: The Q-values (shape 2 x B x A)\n",
    "    :param target_q_values: The target Q-values (shape 2 x B x A)\n",
    "    :param action: The chosen actions (shape 2 x B)\n",
    "    :return: _description_\n",
    "    \"\"\"\n",
    "\n",
    "    # Implement the DQN loss\n",
    "\n",
    "    max_q=target_q_values[1].max(-1).values.detach()\n",
    "\n",
    "    target=(reward[1]+cfg.algorithm.discount_factor*max_q)\n",
    "\n",
    "    qvals=q_values[0].gather(1,action[0].unsqueeze(-1)).squeeze(-1) \n",
    "    \n",
    "    mse_loss = nn.MSELoss()\n",
    "    critic_loss = mse_loss(qvals, target)\n",
    "\n",
    "    return critic_loss\n",
    "\n",
    "\n",
    "\n",
    "    # Adapt from the previous notebook and adapt to our case (target Q network)\n",
    "    # Don't forget that we deal with transitions (and not episodes)\n",
    "    # Compute critic loss (no need to use must_bootstrap here since we are dealing with \"full\" transitions)\n"
   ]
  },
  {
   "cell_type": "markdown",
   "id": "0912bf91",
   "metadata": {
    "lines_to_next_cell": 2
   },
   "source": [
    "## Main training loop"
   ]
  },
  {
   "cell_type": "code",
   "execution_count": 22,
   "id": "9aa8878c",
   "metadata": {
    "lines_to_next_cell": 2
   },
   "outputs": [],
   "source": [
    "def run(dqn: DQN, compute_critic_loss):\n",
    "    for rb in dqn.iter_replay_buffers():\n",
    "        for _ in range(dqn.cfg.algorithm.n_updates):\n",
    "            rb_workspace = rb.get_shuffled(dqn.cfg.algorithm.batch_size)\n",
    "\n",
    "            # The q agent needs to be executed on the rb_workspace workspace\n",
    "            dqn.t_q_agent(rb_workspace, t=0, n_steps=2, choose_action=False)\n",
    "            with torch.no_grad():\n",
    "                dqn.t_target_q_agent(rb_workspace, t=0, n_steps=2, stochastic=True)\n",
    "\n",
    "            q_values, terminated, reward, action, target_q_values = rb_workspace[\n",
    "                \"q_values\", \"env/terminated\", \"env/reward\", \"action\", \"target/q_values\"\n",
    "            ]\n",
    "\n",
    "            # Determines whether values of the critic should be propagated\n",
    "            must_bootstrap = ~terminated\n",
    "\n",
    "            # Compute critic loss\n",
    "            critic_loss = compute_critic_loss(\n",
    "                dqn.cfg, reward, must_bootstrap, q_values, target_q_values, action\n",
    "            )\n",
    "            # Store the loss for tensorboard display\n",
    "            dqn.logger.add_log(\"critic_loss\", critic_loss, dqn.nb_steps)\n",
    "            dqn.logger.add_log(\"q_values/min\", q_values.max(-1).values.min(), dqn.nb_steps)\n",
    "            dqn.logger.add_log(\"q_values/max\", q_values.max(-1).values.max(), dqn.nb_steps)\n",
    "            dqn.logger.add_log(\"q_values/mean\", q_values.max(-1).values.mean(), dqn.nb_steps)\n",
    "\n",
    "            dqn.optimizer.zero_grad()\n",
    "            critic_loss.backward()\n",
    "            torch.nn.utils.clip_grad_norm_(\n",
    "                dqn.t_q_agent.parameters(), dqn.cfg.algorithm.max_grad_norm\n",
    "            )\n",
    "            dqn.optimizer.step()\n",
    "\n",
    "            # Update target\n",
    "            if (\n",
    "                dqn.nb_steps - dqn.last_critic_update_step\n",
    "                > dqn.cfg.algorithm.target_critic_update\n",
    "            ):\n",
    "                dqn.last_critic_update_step = dqn.nb_steps\n",
    "                copy_parameters(dqn.t_q_agent, dqn.t_target_q_agent)\n",
    "\n",
    "            dqn.evaluate()"
   ]
  },
  {
   "cell_type": "markdown",
   "id": "4625e65f",
   "metadata": {},
   "source": [
    "## Definition of the parameters\n",
    "\n",
    "The logger is defined as `bbrl.utils.logger.TFLogger` so as to use a\n",
    "tensorboard visualisation.\n",
    "\n",
    "### Launching tensorboard to visualize the results"
   ]
  },
  {
   "cell_type": "code",
   "execution_count": 23,
   "id": "38da8b13",
   "metadata": {},
   "outputs": [
    {
     "name": "stdout",
     "output_type": "stream",
     "text": [
      "Launch tensorboard from the shell: \n",
      "/home/amailys/deepdac/bin/tensorboard --logdir '/home/amailys/TP/RLD/TP3/outputs'\n"
     ]
    }
   ],
   "source": [
    "setup_tensorboard(\"./outputs/tblogs\")"
   ]
  },
  {
   "cell_type": "code",
   "execution_count": 24,
   "id": "a697851d",
   "metadata": {},
   "outputs": [
    {
     "data": {
      "application/vnd.jupyter.widget-view+json": {
       "model_id": "63c8a5c6be4647cea5c8bfdffa17b32a",
       "version_major": 2,
       "version_minor": 0
      },
      "text/plain": [
       "  0%|          | 0/3000 [00:00<?, ?it/s]"
      ]
     },
     "metadata": {},
     "output_type": "display_data"
    },
    {
     "name": "stdout",
     "output_type": "stream",
     "text": [
      "Video of best agent recorded in outputs/CartPole-v1/dqn-S4_20241010-220236/best_agent.mp4\n",
      "Moviepy - Building video /home/amailys/TP/RLD/TP3/outputs/CartPole-v1/dqn-S4_20241010-220236/best_agent.mp4.\n",
      "Moviepy - Writing video /home/amailys/TP/RLD/TP3/outputs/CartPole-v1/dqn-S4_20241010-220236/best_agent.mp4\n",
      "\n"
     ]
    },
    {
     "name": "stderr",
     "output_type": "stream",
     "text": [
      "                                                           \r"
     ]
    },
    {
     "name": "stdout",
     "output_type": "stream",
     "text": [
      "Moviepy - Done !\n",
      "Moviepy - video ready /home/amailys/TP/RLD/TP3/outputs/CartPole-v1/dqn-S4_20241010-220236/best_agent.mp4\n"
     ]
    },
    {
     "data": {
      "text/html": [
       "<div align=middle><video src='data:video/mp4;base64,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' controls>Sorry, seems like your browser doesn't support HTML5 audio/video</video></div>"
      ],
      "text/plain": [
       "<moviepy.video.io.html_tools.HTML2 object>"
      ]
     },
     "execution_count": 24,
     "metadata": {},
     "output_type": "execute_result"
    }
   ],
   "source": [
    "params = {\n",
    "    \"base_dir\": \"${gym_env.env_name}/dqn-S${algorithm.seed}_${current_time:}\",\n",
    "    # `collect_stats` is True: we keep the cumulated reward for all\n",
    "    # evaluation episodes\n",
    "    \"collect_stats\": True,\n",
    "    \"save_best\": False,\n",
    "    \"algorithm\": {\n",
    "        \"seed\": 4,\n",
    "        \"max_grad_norm\": 0.5,\n",
    "        \"epsilon\": 0.02,\n",
    "        \"n_envs\": 8,\n",
    "        \"n_steps\": 32,\n",
    "        \"n_updates\": 32,\n",
    "        \"eval_interval\": 2000,\n",
    "        \"learning_starts\": 5000,\n",
    "        \"nb_evals\": 10,\n",
    "        \"buffer_size\": 100_000,\n",
    "        \"batch_size\": 256,\n",
    "        \"target_critic_update\": 1_000,\n",
    "        \"max_epochs\": 3_000,\n",
    "        \"discount_factor\": 0.99,\n",
    "        \"architecture\": {\"hidden_size\": [256, 256]},\n",
    "    },\n",
    "    \"gym_env\": {\n",
    "        \"env_name\": \"CartPole-v1\",\n",
    "    },\n",
    "    \"optimizer\": {\n",
    "        \"classname\": \"torch.optim.Adam\",\n",
    "        \"lr\": 1e-3,\n",
    "    },\n",
    "}\n",
    "\n",
    "dqn = DQN(OmegaConf.create(params))\n",
    "run(dqn, dqn_compute_critic_loss)\n",
    "dqn.visualize_best()"
   ]
  },
  {
   "cell_type": "markdown",
   "id": "a3ea1079",
   "metadata": {
    "lines_to_next_cell": 2
   },
   "source": [
    "## Coding Exercise: Double DQN (DDQN)\n",
    "\n",
    "In DQN, the same network is responsible for selecting and estimating the best\n",
    "next action (in the TD-target) and that may lead to over-estimation: the\n",
    "action which q-value is over-estimated will be chosen more often. As a result,\n",
    "training is slower.\n",
    "\n",
    "To reduce over-estimation, double q-learning (and then DDQN) was proposed. It\n",
    "decouples the action selection from the value estimation.\n",
    "\n",
    "Concretely, in DQN, the target value in the critic loss (used to update the Q\n",
    "critic) for a sample at time $t$ is defined as:\n",
    "\n",
    "$$Y^{DQN}_{t} = r_{t+1} + \\gamma{Q}\\left(s_{t+1}, \\arg\\max_{a}Q\\left(s_{t+1},\n",
    "a; \\mathbb{\\theta}_{target}\\right); \\mathbb{\\theta}_{target}\\right)$$\n",
    "\n",
    "where the target network `target_q_agent` with parameters\n",
    "$\\mathbb{\\theta}_{target}$ is used for both action selection and estimation,\n",
    "and can therefore be rewritten:\n",
    "\n",
    "$$Y^{DQN}_{t} = r_{t+1} + \\gamma \\max_{a}{Q}\\left(s_{t+1}, a;\n",
    "\\mathbb{\\theta}_{target}\\right)$$\n",
    "\n",
    "Instead, DDQN uses the online critic `q_agent` with parameters\n",
    "$\\mathbb{\\theta}_{online}$ to select the action, whereas it uses the target\n",
    "network `target_q_agent` to estimate the associated Q-values:\n",
    "\n",
    "$$Y^{DDQN}_{t} = r_{t+1} + \\gamma{Q}\\left(s_{t+1}, \\arg\\max_{a}Q\\left(s_{t+1},\n",
    "a; \\mathbb{\\theta}_{online}\\right); \\mathbb{\\theta}_{target}\\right)$$\n",
    "\n",
    "The goal in this exercise is for you to write the update method for `DDQN`."
   ]
  },
  {
   "cell_type": "code",
   "execution_count": 24,
   "id": "b9507d96",
   "metadata": {},
   "outputs": [],
   "source": [
    "def ddqn_compute_critic_loss(\n",
    "    cfg, reward, must_bootstrap, q_values, target_q_values, action\n",
    "):\n",
    "    \"\"\"Compute the critic loss\n",
    "\n",
    "    :param reward: The reward $r_t$ (shape 2 x B)\n",
    "    :param must_bootstrap: The must bootstrap flag at $t+1$ (shape 2 x B)\n",
    "    :param q_values: The Q-values (shape 2 x B x A)\n",
    "    :param target_q_values: The target Q-values (shape 2 x B x A)\n",
    "    :param action: The chosen actions (shape 2 x B)\n",
    "    :return: the loss (a scalar)\n",
    "    \"\"\"\n",
    "\n",
    "    # Implement the double DQN loss\n",
    "\n",
    "\n",
    "    argmax=q_values[1].argmax(-1)\n",
    "    max_q_target=target_q_values[1].gather(1,argmax.unsqueeze(-1)).squeeze(-1)\n",
    "\n",
    "    target=reward[1]+cfg.algorithm.discount_factor*max_q_target\n",
    "\n",
    "    qvals=q_values[0].gather(1,action[0].unsqueeze(-1)).squeeze(-1) \n",
    "    \n",
    "    mse_loss = nn.MSELoss()\n",
    "    critic_loss = mse_loss(qvals, target)\n",
    "\n",
    "    return critic_loss\n",
    "\n",
    "\n",
    "\n",
    "\n",
    "\n",
    "    # Compute critic loss\n",
    "    mse = nn.MSELoss()\n",
    "    critic_loss = mse(target, qvals)\n",
    "    return critic_loss"
   ]
  },
  {
   "cell_type": "code",
   "execution_count": 25,
   "id": "eab01121",
   "metadata": {},
   "outputs": [
    {
     "data": {
      "application/vnd.jupyter.widget-view+json": {
       "model_id": "34f83058cc5c471599dfffd3460c29d6",
       "version_major": 2,
       "version_minor": 0
      },
      "text/plain": [
       "  0%|          | 0/3000 [00:00<?, ?it/s]"
      ]
     },
     "metadata": {},
     "output_type": "display_data"
    },
    {
     "ename": "KeyboardInterrupt",
     "evalue": "",
     "output_type": "error",
     "traceback": [
      "\u001b[0;31m---------------------------------------------------------------------------\u001b[0m",
      "\u001b[0;31mKeyboardInterrupt\u001b[0m                         Traceback (most recent call last)",
      "Cell \u001b[0;32mIn[25], line 32\u001b[0m\n\u001b[1;32m      1\u001b[0m params \u001b[38;5;241m=\u001b[39m {\n\u001b[1;32m      2\u001b[0m     \u001b[38;5;124m\"\u001b[39m\u001b[38;5;124mbase_dir\u001b[39m\u001b[38;5;124m\"\u001b[39m: \u001b[38;5;124m\"\u001b[39m\u001b[38;5;124m$\u001b[39m\u001b[38;5;132;01m{gym_env.env_name}\u001b[39;00m\u001b[38;5;124m/double-dqn-S$\u001b[39m\u001b[38;5;132;01m{algorithm.seed}\u001b[39;00m\u001b[38;5;124m_$\u001b[39m\u001b[38;5;132;01m{current_time:}\u001b[39;00m\u001b[38;5;124m\"\u001b[39m,\n\u001b[1;32m      3\u001b[0m     \u001b[38;5;124m\"\u001b[39m\u001b[38;5;124mcollect_stats\u001b[39m\u001b[38;5;124m\"\u001b[39m: \u001b[38;5;28;01mTrue\u001b[39;00m,\n\u001b[0;32m   (...)\u001b[0m\n\u001b[1;32m     28\u001b[0m     },\n\u001b[1;32m     29\u001b[0m }\n\u001b[1;32m     31\u001b[0m ddqn \u001b[38;5;241m=\u001b[39m DQN(OmegaConf\u001b[38;5;241m.\u001b[39mcreate(params))\n\u001b[0;32m---> 32\u001b[0m \u001b[43mrun\u001b[49m\u001b[43m(\u001b[49m\u001b[43mddqn\u001b[49m\u001b[43m,\u001b[49m\u001b[43m \u001b[49m\u001b[43mddqn_compute_critic_loss\u001b[49m\u001b[43m)\u001b[49m\n\u001b[1;32m     33\u001b[0m ddqn\u001b[38;5;241m.\u001b[39mvisualize_best()\n",
      "Cell \u001b[0;32mIn[12], line 29\u001b[0m, in \u001b[0;36mrun\u001b[0;34m(dqn, compute_critic_loss)\u001b[0m\n\u001b[1;32m     26\u001b[0m dqn\u001b[38;5;241m.\u001b[39mlogger\u001b[38;5;241m.\u001b[39madd_log(\u001b[38;5;124m\"\u001b[39m\u001b[38;5;124mq_values/mean\u001b[39m\u001b[38;5;124m\"\u001b[39m, q_values\u001b[38;5;241m.\u001b[39mmax(\u001b[38;5;241m-\u001b[39m\u001b[38;5;241m1\u001b[39m)\u001b[38;5;241m.\u001b[39mvalues\u001b[38;5;241m.\u001b[39mmean(), dqn\u001b[38;5;241m.\u001b[39mnb_steps)\n\u001b[1;32m     28\u001b[0m dqn\u001b[38;5;241m.\u001b[39moptimizer\u001b[38;5;241m.\u001b[39mzero_grad()\n\u001b[0;32m---> 29\u001b[0m \u001b[43mcritic_loss\u001b[49m\u001b[38;5;241;43m.\u001b[39;49m\u001b[43mbackward\u001b[49m\u001b[43m(\u001b[49m\u001b[43m)\u001b[49m\n\u001b[1;32m     30\u001b[0m torch\u001b[38;5;241m.\u001b[39mnn\u001b[38;5;241m.\u001b[39mutils\u001b[38;5;241m.\u001b[39mclip_grad_norm_(\n\u001b[1;32m     31\u001b[0m     dqn\u001b[38;5;241m.\u001b[39mt_q_agent\u001b[38;5;241m.\u001b[39mparameters(), dqn\u001b[38;5;241m.\u001b[39mcfg\u001b[38;5;241m.\u001b[39malgorithm\u001b[38;5;241m.\u001b[39mmax_grad_norm\n\u001b[1;32m     32\u001b[0m )\n\u001b[1;32m     33\u001b[0m dqn\u001b[38;5;241m.\u001b[39moptimizer\u001b[38;5;241m.\u001b[39mstep()\n",
      "File \u001b[0;32m~/TP/deepdac/lib/python3.10/site-packages/torch/_tensor.py:521\u001b[0m, in \u001b[0;36mTensor.backward\u001b[0;34m(self, gradient, retain_graph, create_graph, inputs)\u001b[0m\n\u001b[1;32m    511\u001b[0m \u001b[38;5;28;01mif\u001b[39;00m has_torch_function_unary(\u001b[38;5;28mself\u001b[39m):\n\u001b[1;32m    512\u001b[0m     \u001b[38;5;28;01mreturn\u001b[39;00m handle_torch_function(\n\u001b[1;32m    513\u001b[0m         Tensor\u001b[38;5;241m.\u001b[39mbackward,\n\u001b[1;32m    514\u001b[0m         (\u001b[38;5;28mself\u001b[39m,),\n\u001b[0;32m   (...)\u001b[0m\n\u001b[1;32m    519\u001b[0m         inputs\u001b[38;5;241m=\u001b[39minputs,\n\u001b[1;32m    520\u001b[0m     )\n\u001b[0;32m--> 521\u001b[0m \u001b[43mtorch\u001b[49m\u001b[38;5;241;43m.\u001b[39;49m\u001b[43mautograd\u001b[49m\u001b[38;5;241;43m.\u001b[39;49m\u001b[43mbackward\u001b[49m\u001b[43m(\u001b[49m\n\u001b[1;32m    522\u001b[0m \u001b[43m    \u001b[49m\u001b[38;5;28;43mself\u001b[39;49m\u001b[43m,\u001b[49m\u001b[43m \u001b[49m\u001b[43mgradient\u001b[49m\u001b[43m,\u001b[49m\u001b[43m \u001b[49m\u001b[43mretain_graph\u001b[49m\u001b[43m,\u001b[49m\u001b[43m \u001b[49m\u001b[43mcreate_graph\u001b[49m\u001b[43m,\u001b[49m\u001b[43m \u001b[49m\u001b[43minputs\u001b[49m\u001b[38;5;241;43m=\u001b[39;49m\u001b[43minputs\u001b[49m\n\u001b[1;32m    523\u001b[0m \u001b[43m\u001b[49m\u001b[43m)\u001b[49m\n",
      "File \u001b[0;32m~/TP/deepdac/lib/python3.10/site-packages/torch/autograd/__init__.py:289\u001b[0m, in \u001b[0;36mbackward\u001b[0;34m(tensors, grad_tensors, retain_graph, create_graph, grad_variables, inputs)\u001b[0m\n\u001b[1;32m    284\u001b[0m     retain_graph \u001b[38;5;241m=\u001b[39m create_graph\n\u001b[1;32m    286\u001b[0m \u001b[38;5;66;03m# The reason we repeat the same comment below is that\u001b[39;00m\n\u001b[1;32m    287\u001b[0m \u001b[38;5;66;03m# some Python versions print out the first line of a multi-line function\u001b[39;00m\n\u001b[1;32m    288\u001b[0m \u001b[38;5;66;03m# calls in the traceback and some print out the last line\u001b[39;00m\n\u001b[0;32m--> 289\u001b[0m \u001b[43m_engine_run_backward\u001b[49m\u001b[43m(\u001b[49m\n\u001b[1;32m    290\u001b[0m \u001b[43m    \u001b[49m\u001b[43mtensors\u001b[49m\u001b[43m,\u001b[49m\n\u001b[1;32m    291\u001b[0m \u001b[43m    \u001b[49m\u001b[43mgrad_tensors_\u001b[49m\u001b[43m,\u001b[49m\n\u001b[1;32m    292\u001b[0m \u001b[43m    \u001b[49m\u001b[43mretain_graph\u001b[49m\u001b[43m,\u001b[49m\n\u001b[1;32m    293\u001b[0m \u001b[43m    \u001b[49m\u001b[43mcreate_graph\u001b[49m\u001b[43m,\u001b[49m\n\u001b[1;32m    294\u001b[0m \u001b[43m    \u001b[49m\u001b[43minputs\u001b[49m\u001b[43m,\u001b[49m\n\u001b[1;32m    295\u001b[0m \u001b[43m    \u001b[49m\u001b[43mallow_unreachable\u001b[49m\u001b[38;5;241;43m=\u001b[39;49m\u001b[38;5;28;43;01mTrue\u001b[39;49;00m\u001b[43m,\u001b[49m\n\u001b[1;32m    296\u001b[0m \u001b[43m    \u001b[49m\u001b[43maccumulate_grad\u001b[49m\u001b[38;5;241;43m=\u001b[39;49m\u001b[38;5;28;43;01mTrue\u001b[39;49;00m\u001b[43m,\u001b[49m\n\u001b[1;32m    297\u001b[0m \u001b[43m\u001b[49m\u001b[43m)\u001b[49m\n",
      "File \u001b[0;32m~/TP/deepdac/lib/python3.10/site-packages/torch/autograd/graph.py:769\u001b[0m, in \u001b[0;36m_engine_run_backward\u001b[0;34m(t_outputs, *args, **kwargs)\u001b[0m\n\u001b[1;32m    767\u001b[0m     unregister_hooks \u001b[38;5;241m=\u001b[39m _register_logging_hooks_on_whole_graph(t_outputs)\n\u001b[1;32m    768\u001b[0m \u001b[38;5;28;01mtry\u001b[39;00m:\n\u001b[0;32m--> 769\u001b[0m     \u001b[38;5;28;01mreturn\u001b[39;00m \u001b[43mVariable\u001b[49m\u001b[38;5;241;43m.\u001b[39;49m\u001b[43m_execution_engine\u001b[49m\u001b[38;5;241;43m.\u001b[39;49m\u001b[43mrun_backward\u001b[49m\u001b[43m(\u001b[49m\u001b[43m  \u001b[49m\u001b[38;5;66;43;03m# Calls into the C++ engine to run the backward pass\u001b[39;49;00m\n\u001b[1;32m    770\u001b[0m \u001b[43m        \u001b[49m\u001b[43mt_outputs\u001b[49m\u001b[43m,\u001b[49m\u001b[43m \u001b[49m\u001b[38;5;241;43m*\u001b[39;49m\u001b[43margs\u001b[49m\u001b[43m,\u001b[49m\u001b[43m \u001b[49m\u001b[38;5;241;43m*\u001b[39;49m\u001b[38;5;241;43m*\u001b[39;49m\u001b[43mkwargs\u001b[49m\n\u001b[1;32m    771\u001b[0m \u001b[43m    \u001b[49m\u001b[43m)\u001b[49m  \u001b[38;5;66;03m# Calls into the C++ engine to run the backward pass\u001b[39;00m\n\u001b[1;32m    772\u001b[0m \u001b[38;5;28;01mfinally\u001b[39;00m:\n\u001b[1;32m    773\u001b[0m     \u001b[38;5;28;01mif\u001b[39;00m attach_logging_hooks:\n",
      "\u001b[0;31mKeyboardInterrupt\u001b[0m: "
     ]
    }
   ],
   "source": [
    "params = {\n",
    "    \"base_dir\": \"${gym_env.env_name}/double-dqn-S${algorithm.seed}_${current_time:}\",\n",
    "    \"collect_stats\": True,\n",
    "    \"save_best\": False,\n",
    "    \"algorithm\": {\n",
    "        \"seed\": 3,\n",
    "        \"max_grad_norm\": 0.5,\n",
    "        \"epsilon\": 0.02,\n",
    "        \"n_envs\": 8,\n",
    "        \"n_steps\": 32,\n",
    "        \"n_updates\": 32,\n",
    "        \"eval_interval\": 2_000,\n",
    "        \"learning_starts\": 5_000,\n",
    "        \"nb_evals\": 10,\n",
    "        \"buffer_size\": 100_000,\n",
    "        \"batch_size\": 256,\n",
    "        \"target_critic_update\": 1000,\n",
    "        \"max_epochs\": 3_000,\n",
    "        \"discount_factor\": 0.99,\n",
    "        \"architecture\": {\"hidden_size\": [128, 128]},\n",
    "    },\n",
    "    \"gym_env\": {\n",
    "        \"env_name\": \"CartPole-v1\",\n",
    "    },\n",
    "    \"optimizer\": {\n",
    "        \"classname\": \"torch.optim.Adam\",\n",
    "        \"lr\": 1e-3,\n",
    "    },\n",
    "}\n",
    "\n",
    "ddqn = DQN(OmegaConf.create(params))\n",
    "run(ddqn, ddqn_compute_critic_loss)\n",
    "ddqn.visualize_best()"
   ]
  },
  {
   "cell_type": "markdown",
   "id": "c7b53d3f",
   "metadata": {},
   "source": [
    "## Comparing DQN and D-DQN\n",
    "\n",
    "Finally, we compare DQN and double DQN, computing a Welch t-test \n",
    "for every evaluation (the dot above the curves marks a significant\n",
    "difference)."
   ]
  },
  {
   "cell_type": "code",
   "execution_count": 26,
   "id": "dbca5890",
   "metadata": {},
   "outputs": [
    {
     "data": {
      "image/png": "[encoded data removed]",
      "text/plain": [
       "<Figure size 2000x1000 with 1 Axes>"
      ]
     },
     "metadata": {},
     "output_type": "display_data"
    }
   ],
   "source": [
    "from bbrl.stats import WelchTTest\n",
    "\n",
    "WelchTTest().plot(\n",
    "    torch.stack(dqn.eval_rewards), torch.stack(ddqn.eval_rewards), save=False\n",
    ")"
   ]
  },
  {
   "cell_type": "code",
   "execution_count": null,
   "id": "4712f440",
   "metadata": {},
   "outputs": [],
   "source": []
  }
 ],
 "metadata": {
  "jupytext": {
   "cell_markers": "\"\"\""
  },
  "kernelspec": {
   "display_name": "deepdac",
   "language": "python",
   "name": "python3"
  },
  "language_info": {
   "codemirror_mode": {
    "name": "ipython",
    "version": 3
   },
   "file_extension": ".py",
   "mimetype": "text/x-python",
   "name": "python",
   "nbconvert_exporter": "python",
   "pygments_lexer": "ipython3",
   "version": "3.12.3"
  }
 },
 "nbformat": 4,
 "nbformat_minor": 5
}
